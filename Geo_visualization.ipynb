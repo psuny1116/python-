{
 "cells": [
  {
   "cell_type": "markdown",
   "metadata": {},
   "source": [
    "# 지도 시각화"
   ]
  },
  {
   "cell_type": "code",
   "execution_count": 1,
   "metadata": {},
   "outputs": [],
   "source": [
    "import folium"
   ]
  },
  {
   "cell_type": "code",
   "execution_count": 2,
   "metadata": {},
   "outputs": [],
   "source": [
    "# folium라이브러리가 설치되어 있지 않다면\n",
    "# ! pip install folium"
   ]
  },
  {
   "cell_type": "markdown",
   "metadata": {},
   "source": [
    "#### 지도 생성하기\n",
    "* m = folium.Map(location = [위도, 경도], zoom_start = 확대정도)\n",
    "#### 정보 추가하기\n",
    "* 마커 추가하기\n",
    "    * folium.Marker([위도, 경도]).add_to(m)\n",
    "* 원 추가하기\n",
    "    * folium.CircleMarker([위도, 경도], radius = 원크기).add_to(m)\n",
    "* 추가옵션\n",
    "    * tooltip = '마우스 올리면 보여질 정보'\n",
    "    * popup = '클릭하면 보여질 정보'\n",
    "* ClickForMarker('체크').add_to(m) : 지도에서 클릭할 경우 마커 추가하기"
   ]
  },
  {
   "cell_type": "code",
   "execution_count": null,
   "metadata": {},
   "outputs": [],
   "source": []
  }
 ],
 "metadata": {
  "kernelspec": {
   "display_name": "Python 3",
   "language": "python",
   "name": "python3"
  },
  "language_info": {
   "codemirror_mode": {
    "name": "ipython",
    "version": 3
   },
   "file_extension": ".py",
   "mimetype": "text/x-python",
   "name": "python",
   "nbconvert_exporter": "python",
   "pygments_lexer": "ipython3",
   "version": "3.7.6"
  }
 },
 "nbformat": 4,
 "nbformat_minor": 4
}
