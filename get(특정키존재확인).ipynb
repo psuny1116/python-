{
 "cells": [
  {
   "cell_type": "markdown",
   "metadata": {},
   "source": [
    "# get\n",
    "\n",
    "- 특정 키가 존재하는지 확인하고 그 키에 해당하는 값을 가져오는 방법\n",
    "- 특정 키가 딕셔너리 내에 있다면 키에 해당하는 값을 출력\n",
    "- 없다면 None을 출력\n",
    "- get 함수에 추가로 두번째 인수를 입력하면, 해당 키가 딕셔너리에 없을 경우 None 대신 이 인수를 출력함\n",
    "    - 이 경우 키가 딕셔너리에 없는 경우, 다른 값을 출력하는 것이 가능함"
   ]
  },
  {
   "cell_type": "code",
   "execution_count": 1,
   "metadata": {},
   "outputs": [
    {
     "data": {
      "text/plain": [
       "3"
      ]
     },
     "execution_count": 1,
     "metadata": {},
     "output_type": "execute_result"
    }
   ],
   "source": [
    "a_dict = {'one': 1, 'two': 2, 'three': 3}\n",
    "a_dict.get('three')"
   ]
  },
  {
   "cell_type": "code",
   "execution_count": 2,
   "metadata": {},
   "outputs": [],
   "source": [
    "a_dict.get('four')"
   ]
  },
  {
   "cell_type": "code",
   "execution_count": 3,
   "metadata": {},
   "outputs": [
    {
     "data": {
      "text/plain": [
       "'Not in dict'"
      ]
     },
     "execution_count": 3,
     "metadata": {},
     "output_type": "execute_result"
    }
   ],
   "source": [
    "a_dict.get('four', 'Not in dict')"
   ]
  }
 ],
 "metadata": {
  "kernelspec": {
   "display_name": "Python 3",
   "language": "python",
   "name": "python3"
  },
  "language_info": {
   "codemirror_mode": {
    "name": "ipython",
    "version": 3
   },
   "file_extension": ".py",
   "mimetype": "text/x-python",
   "name": "python",
   "nbconvert_exporter": "python",
   "pygments_lexer": "ipython3",
   "version": "3.7.6"
  }
 },
 "nbformat": 4,
 "nbformat_minor": 4
}
