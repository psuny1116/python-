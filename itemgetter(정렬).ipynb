{
 "cells": [
  {
   "cell_type": "markdown",
   "metadata": {},
   "source": [
    "# itemgetter\n",
    "\n",
    "- 다양한 기준에 따라 리스트, 튜플, 딕셔너리를 정렬하는 기능을 제공\n",
    "- 다양한 위치의 인덱스 값에 따라 정렬함"
   ]
  },
  {
   "cell_type": "code",
   "execution_count": 1,
   "metadata": {},
   "outputs": [],
   "source": [
    "from operator import itemgetter"
   ]
  },
  {
   "cell_type": "code",
   "execution_count": 2,
   "metadata": {},
   "outputs": [],
   "source": [
    "lists = [[123, 2, 2, 444], [22, 6, 6, 444], [354, 4, 4, 678], [236, 5, 5, 678], [578, 1, 1, 290], [461, 1, 1, 290]]\n",
    "sorted_lists = sorted(lists, key = itemgetter(3, 0))     # 3번째 인덱스를 기준으로 정렬한 후 0번째 인덱스를 기준으로 정렬"
   ]
  },
  {
   "cell_type": "code",
   "execution_count": 3,
   "metadata": {},
   "outputs": [
    {
     "data": {
      "text/plain": [
       "[[461, 1, 1, 290],\n",
       " [578, 1, 1, 290],\n",
       " [22, 6, 6, 444],\n",
       " [123, 2, 2, 444],\n",
       " [236, 5, 5, 678],\n",
       " [354, 4, 4, 678]]"
      ]
     },
     "execution_count": 3,
     "metadata": {},
     "output_type": "execute_result"
    }
   ],
   "source": [
    "sorted_lists"
   ]
  }
 ],
 "metadata": {
  "kernelspec": {
   "display_name": "Python 3",
   "language": "python",
   "name": "python3"
  },
  "language_info": {
   "codemirror_mode": {
    "name": "ipython",
    "version": 3
   },
   "file_extension": ".py",
   "mimetype": "text/x-python",
   "name": "python",
   "nbconvert_exporter": "python",
   "pygments_lexer": "ipython3",
   "version": "3.7.6"
  }
 },
 "nbformat": 4,
 "nbformat_minor": 4
}
