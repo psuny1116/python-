{
 "cells": [
  {
   "cell_type": "code",
   "execution_count": 3,
   "id": "ebec75b8",
   "metadata": {},
   "outputs": [
    {
     "name": "stdout",
     "output_type": "stream",
     "text": [
      "1\n",
      "{'muzi': 0, 'frodo': 0, 'apeach': 0, 'neo': 0}\n"
     ]
    }
   ],
   "source": [
    "id_list = [\"muzi\", \"frodo\", \"apeach\", \"neo\"]\n",
    "\n",
    "print(id_list.index('frodo'))\n",
    "\n",
    "reports = {x : 0 for x in id_list}\n",
    "\n",
    "print(reports)"
   ]
  }
 ],
 "metadata": {
  "kernelspec": {
   "display_name": "Python 3 (ipykernel)",
   "language": "python",
   "name": "python3"
  },
  "language_info": {
   "codemirror_mode": {
    "name": "ipython",
    "version": 3
   },
   "file_extension": ".py",
   "mimetype": "text/x-python",
   "name": "python",
   "nbconvert_exporter": "python",
   "pygments_lexer": "ipython3",
   "version": "3.9.12"
  }
 },
 "nbformat": 4,
 "nbformat_minor": 5
}
