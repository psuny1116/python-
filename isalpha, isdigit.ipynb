{
 "cells": [
  {
   "cell_type": "markdown",
   "id": "1eaf093e",
   "metadata": {},
   "source": [
    "# isalpha(), isdigit()\n",
    "\n",
    "- isalpha(): 알파벳(대소문자 상관없음)으로만 이루어져 있는지 확인\n",
    "- isdigit(): 숫자로만 이루어져 있는지 확인"
   ]
  },
  {
   "cell_type": "code",
   "execution_count": 2,
   "id": "eccfbbf7",
   "metadata": {},
   "outputs": [
    {
     "name": "stdout",
     "output_type": "stream",
     "text": [
      "True\n",
      "False\n",
      "True\n",
      "False\n",
      "\n",
      "False\n",
      "True\n",
      "False\n",
      "False\n"
     ]
    }
   ],
   "source": [
    "a = 'abcdeg'\n",
    "b = '12345'\n",
    "c = 'ABCDE'\n",
    "d = 'abbj345'\n",
    "\n",
    "print(a.isalpha())\n",
    "print(b.isalpha())\n",
    "print(c.isalpha())\n",
    "print(d.isalpha())\n",
    "print()\n",
    "print(a.isdigit())\n",
    "print(b.isdigit())\n",
    "print(c.isdigit())\n",
    "print(d.isdigit())"
   ]
  },
  {
   "cell_type": "code",
   "execution_count": null,
   "id": "675f7071",
   "metadata": {},
   "outputs": [],
   "source": []
  }
 ],
 "metadata": {
  "kernelspec": {
   "display_name": "Python 3 (ipykernel)",
   "language": "python",
   "name": "python3"
  },
  "language_info": {
   "codemirror_mode": {
    "name": "ipython",
    "version": 3
   },
   "file_extension": ".py",
   "mimetype": "text/x-python",
   "name": "python",
   "nbconvert_exporter": "python",
   "pygments_lexer": "ipython3",
   "version": "3.9.12"
  }
 },
 "nbformat": 4,
 "nbformat_minor": 5
}
