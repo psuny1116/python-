{
 "cells": [
  {
   "cell_type": "markdown",
   "id": "b9ebe66f",
   "metadata": {},
   "source": [
    "# enumerate\n",
    "\n",
    "- 반복문 사용시 몇번째 반복문인지 확인이 필요할 시 사용\n",
    "- 인덱스 번호화 컬렉션의 원소를 튜플형태로 반환"
   ]
  },
  {
   "cell_type": "code",
   "execution_count": 2,
   "id": "86e98c67",
   "metadata": {},
   "outputs": [
    {
     "name": "stdout",
     "output_type": "stream",
     "text": [
      "0 1\n",
      "1 4\n",
      "2 6\n",
      "3 2\n",
      "4 7\n"
     ]
    }
   ],
   "source": [
    "a = [1, 4, 6, 2, 7]\n",
    "for i, j in enumerate(a):\n",
    "    print(i, j)"
   ]
  },
  {
   "cell_type": "code",
   "execution_count": 1,
   "id": "56bcd18b",
   "metadata": {},
   "outputs": [
    {
     "name": "stdout",
     "output_type": "stream",
     "text": [
      "0 t\n",
      "1 r\n",
      "2 y\n",
      "3  \n",
      "4 h\n",
      "5 e\n",
      "6 l\n",
      "7 l\n",
      "8 o\n",
      "9  \n",
      "10 w\n",
      "11 o\n",
      "12 r\n",
      "13 l\n",
      "14 d\n"
     ]
    }
   ],
   "source": [
    "x = \"try hello world\"\n",
    "\n",
    "for i, a in enumerate(x):\n",
    "    print(i, a)"
   ]
  }
 ],
 "metadata": {
  "kernelspec": {
   "display_name": "Python 3 (ipykernel)",
   "language": "python",
   "name": "python3"
  },
  "language_info": {
   "codemirror_mode": {
    "name": "ipython",
    "version": 3
   },
   "file_extension": ".py",
   "mimetype": "text/x-python",
   "name": "python",
   "nbconvert_exporter": "python",
   "pygments_lexer": "ipython3",
   "version": "3.9.12"
  }
 },
 "nbformat": 4,
 "nbformat_minor": 5
}
