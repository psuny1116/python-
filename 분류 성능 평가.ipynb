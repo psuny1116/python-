{
 "cells": [
  {
   "cell_type": "code",
   "execution_count": 1,
   "id": "21de2e62",
   "metadata": {},
   "outputs": [],
   "source": [
    "import matplotlib.pyplot as plt\n",
    "import seaborn as sns\n",
    "import numpy as np\n",
    "import pandas as pd"
   ]
  },
  {
   "cell_type": "code",
   "execution_count": 2,
   "id": "40a39c67",
   "metadata": {},
   "outputs": [],
   "source": [
    "penguins = sns.load_dataset('penguins')\n",
    "\n",
    "# 결측치 제거\n",
    "penguins = penguins.dropna().reset_index(drop = True)"
   ]
  },
  {
   "cell_type": "code",
   "execution_count": 4,
   "id": "11f636bf",
   "metadata": {},
   "outputs": [
    {
     "name": "stdout",
     "output_type": "stream",
     "text": [
      "Logisctic Regression 모델의 예측 정확도는 94% 입니다.\n"
     ]
    }
   ],
   "source": [
    "# 이전에 분류 분석 노트북에서 작성한 것과 동일(모델은 Logistic Regression 사용)\n",
    "\n",
    "from sklearn.preprocessing import MinMaxScaler\n",
    "from sklearn.preprocessing import LabelEncoder\n",
    "from sklearn.model_selection import train_test_split\n",
    "from sklearn.linear_model import LogisticRegression\n",
    "from sklearn.metrics import accuracy_score\n",
    "\n",
    "scaler = MinMaxScaler()\n",
    "\n",
    "features = penguins[['bill_length_mm', 'bill_depth_mm', 'flipper_length_mm', 'body_mass_g']]\n",
    "features_normed = scaler.fit_transform(features)\n",
    "\n",
    "penguins = penguins.assign(bill_length_mm = features_normed[:, 0],\n",
    "                          bill_depth_mm = features_normed[:, 1],\n",
    "                          flipper_length_mm = features_normed[:, 2],\n",
    "                          body_mass_g = features_normed[:, 3])\n",
    "\n",
    "encoder = LabelEncoder()\n",
    "\n",
    "features = penguins[['species', 'island', 'sex']]\n",
    "encoded = features.apply(encoder.fit_transform)\n",
    "\n",
    "penguins = penguins.assign(species = encoded['species'],\n",
    "                          island = encoded['island'],\n",
    "                          sex = encoded['sex'])\n",
    "\n",
    "X = penguins.drop('sex', axis = 1)\n",
    "y = penguins['sex']\n",
    "\n",
    "X_train, X_test, y_train, y_test = train_test_split(X, y, test_size = 0.2, shuffle = True)\n",
    "\n",
    "lr_model = LogisticRegression(verbose = 0)\n",
    "lr_model.fit(X_train, y_train)\n",
    "\n",
    "# male = 1, female = 0\n",
    "predictions = lr_model.predict(X_test)\n",
    "\n",
    "acc = accuracy_score(y_test, predictions)\n",
    "print('Logisctic Regression 모델의 예측 정확도는 {}% 입니다.'.format(round(acc * 100)))"
   ]
  },
  {
   "cell_type": "markdown",
   "id": "501f065f",
   "metadata": {},
   "source": [
    "- accuracy_score 정확도는 94%라고 나왔지만 정확도만을 가지고 분류 성능을 평가하는 것은 주의가 필요함\n",
    "- 만약 10마리 중에 9마리가 male, 1마리가 female이라면 전부 male로 예측해도 정확도는 90%로 나옴\n",
    "- 따라서 추가적으로 다른 성능평가 지표 확인"
   ]
  },
  {
   "cell_type": "markdown",
   "id": "7a912258",
   "metadata": {},
   "source": [
    "# 오차행렬(confusion matrix)\n",
    "\n",
    "- 예측 = True, 실제 = True => TP(true positive)\n",
    "- 예측 = True, 실제 = False => FP(false positive)\n",
    "\n",
    "- 예측 = False, 실제 = True => FN(false negative)\n",
    "- 예측 = False, 실제 = False => TN(true negative)"
   ]
  },
  {
   "cell_type": "code",
   "execution_count": 6,
   "id": "2f52a288",
   "metadata": {
    "collapsed": true
   },
   "outputs": [
    {
     "name": "stdout",
     "output_type": "stream",
     "text": [
      "Defaulting to user installation because normal site-packages is not writeable\n",
      "Collecting mlxtend\n",
      "  Downloading mlxtend-0.20.0-py2.py3-none-any.whl (1.3 MB)\n",
      "Requirement already satisfied: scipy>=1.2.1 in c:\\programdata\\anaconda3\\lib\\site-packages (from mlxtend) (1.7.3)\n",
      "Requirement already satisfied: matplotlib>=3.0.0 in c:\\programdata\\anaconda3\\lib\\site-packages (from mlxtend) (3.5.1)\n",
      "Requirement already satisfied: setuptools in c:\\programdata\\anaconda3\\lib\\site-packages (from mlxtend) (61.2.0)\n",
      "Requirement already satisfied: numpy>=1.16.2 in c:\\programdata\\anaconda3\\lib\\site-packages (from mlxtend) (1.21.5)\n",
      "Requirement already satisfied: scikit-learn>=1.0.2 in c:\\programdata\\anaconda3\\lib\\site-packages (from mlxtend) (1.0.2)\n",
      "Requirement already satisfied: joblib>=0.13.2 in c:\\programdata\\anaconda3\\lib\\site-packages (from mlxtend) (1.1.0)\n",
      "Requirement already satisfied: pandas>=0.24.2 in c:\\programdata\\anaconda3\\lib\\site-packages (from mlxtend) (1.4.2)\n",
      "Requirement already satisfied: pyparsing>=2.2.1 in c:\\programdata\\anaconda3\\lib\\site-packages (from matplotlib>=3.0.0->mlxtend) (3.0.4)\n",
      "Requirement already satisfied: pillow>=6.2.0 in c:\\programdata\\anaconda3\\lib\\site-packages (from matplotlib>=3.0.0->mlxtend) (9.0.1)\n",
      "Requirement already satisfied: cycler>=0.10 in c:\\programdata\\anaconda3\\lib\\site-packages (from matplotlib>=3.0.0->mlxtend) (0.11.0)\n",
      "Requirement already satisfied: fonttools>=4.22.0 in c:\\programdata\\anaconda3\\lib\\site-packages (from matplotlib>=3.0.0->mlxtend) (4.25.0)\n",
      "Requirement already satisfied: packaging>=20.0 in c:\\programdata\\anaconda3\\lib\\site-packages (from matplotlib>=3.0.0->mlxtend) (21.3)\n",
      "Requirement already satisfied: python-dateutil>=2.7 in c:\\programdata\\anaconda3\\lib\\site-packages (from matplotlib>=3.0.0->mlxtend) (2.8.2)\n",
      "Requirement already satisfied: kiwisolver>=1.0.1 in c:\\programdata\\anaconda3\\lib\\site-packages (from matplotlib>=3.0.0->mlxtend) (1.3.2)\n",
      "Requirement already satisfied: pytz>=2020.1 in c:\\programdata\\anaconda3\\lib\\site-packages (from pandas>=0.24.2->mlxtend) (2021.3)\n",
      "Requirement already satisfied: six>=1.5 in c:\\programdata\\anaconda3\\lib\\site-packages (from python-dateutil>=2.7->matplotlib>=3.0.0->mlxtend) (1.16.0)\n",
      "Requirement already satisfied: threadpoolctl>=2.0.0 in c:\\programdata\\anaconda3\\lib\\site-packages (from scikit-learn>=1.0.2->mlxtend) (2.2.0)\n",
      "Installing collected packages: mlxtend\n",
      "Successfully installed mlxtend-0.20.0\n",
      "Note: you may need to restart the kernel to use updated packages.\n"
     ]
    }
   ],
   "source": [
    "# pip install mlxtend"
   ]
  },
  {
   "cell_type": "code",
   "execution_count": 7,
   "id": "fdc469ef",
   "metadata": {},
   "outputs": [],
   "source": [
    "from sklearn.metrics import confusion_matrix\n",
    "from mlxtend.plotting import plot_confusion_matrix"
   ]
  },
  {
   "cell_type": "code",
   "execution_count": 8,
   "id": "7e60b6fd",
   "metadata": {},
   "outputs": [],
   "source": [
    "# male = 1, female = 0\n",
    "\n",
    "predictions = lr_model.predict(X_test)"
   ]
  },
  {
   "cell_type": "code",
   "execution_count": 9,
   "id": "f943ca87",
   "metadata": {},
   "outputs": [
    {
     "data": {
      "text/plain": [
       "array([[31,  3],\n",
       "       [ 1, 32]], dtype=int64)"
      ]
     },
     "execution_count": 9,
     "metadata": {},
     "output_type": "execute_result"
    }
   ],
   "source": [
    "# confusion matrix\n",
    "\n",
    "cnf_matrix = confusion_matrix(y_test, predictions)\n",
    "cnf_matrix"
   ]
  },
  {
   "cell_type": "code",
   "execution_count": 10,
   "id": "dcdb0a59",
   "metadata": {},
   "outputs": [
    {
     "data": {
      "image/png": "[encoded data removed]",
      "text/plain": [
       "<Figure size 432x288 with 2 Axes>"
      ]
     },
     "metadata": {
      "needs_background": "light"
     },
     "output_type": "display_data"
    }
   ],
   "source": [
    "# confusion matrix 시각화\n",
    "\n",
    "figure, ax = plot_confusion_matrix(conf_mat = cnf_matrix,     # confusion matrix\n",
    "                                  show_absolute = True,     # 절대값 나타냄\n",
    "                                  show_normed = True,     # 비율 나타냄\n",
    "                                  colorbar = True)\n",
    "plt.show()"
   ]
  },
  {
   "cell_type": "markdown",
   "id": "2f087895",
   "metadata": {},
   "source": [
    "## 정확도(accuracy) / 정밀도(precision)\n",
    "\n",
    "- 정확도(accuracy): 전체 분류 결과 중에서 실제 참으로 맞춘 비율\n",
    "    - 전체 데이터에서 얼마나 맞췄는가?\n",
    "    - TP + TN / TP + FP + TN + FN\n",
    "    \n",
    "    \n",
    "- 정밀도(precision): 참으로 분류한 것 중에서 실제 참의 비율\n",
    "    - 얼마나 정밀하게 참으로 분류했는가?\n",
    "    - TP / TP + FP"
   ]
  },
  {
   "cell_type": "code",
   "execution_count": 11,
   "id": "fbe2171b",
   "metadata": {},
   "outputs": [],
   "source": [
    "from sklearn.metrics import accuracy_score\n",
    "from sklearn.metrics import precision_score"
   ]
  },
  {
   "cell_type": "code",
   "execution_count": 12,
   "id": "c6889eee",
   "metadata": {},
   "outputs": [
    {
     "data": {
      "text/plain": [
       "0.9402985074626866"
      ]
     },
     "execution_count": 12,
     "metadata": {},
     "output_type": "execute_result"
    }
   ],
   "source": [
    "# 정확도\n",
    "\n",
    "accuracy_score(y_test, predictions)"
   ]
  },
  {
   "cell_type": "code",
   "execution_count": 13,
   "id": "048e38ce",
   "metadata": {},
   "outputs": [
    {
     "data": {
      "text/plain": [
       "0.9142857142857143"
      ]
     },
     "execution_count": 13,
     "metadata": {},
     "output_type": "execute_result"
    }
   ],
   "source": [
    "# 정밀도\n",
    "\n",
    "precision_score(y_test, predictions)"
   ]
  },
  {
   "cell_type": "markdown",
   "id": "f2270d80",
   "metadata": {},
   "source": [
    "## 재현율(recall)\n",
    "\n",
    "- hit ratio\n",
    "- 실제 참 값 중에서 참으로 분류한 비율\n",
    "- 참 값을 얼마나 잘 재현해 내었는가?\n",
    "- TP / TP + FN"
   ]
  },
  {
   "cell_type": "code",
   "execution_count": 14,
   "id": "8f42158f",
   "metadata": {},
   "outputs": [],
   "source": [
    "from sklearn.metrics import recall_score"
   ]
  },
  {
   "cell_type": "code",
   "execution_count": 15,
   "id": "e55f04b0",
   "metadata": {},
   "outputs": [
    {
     "data": {
      "text/plain": [
       "0.9696969696969697"
      ]
     },
     "execution_count": 15,
     "metadata": {},
     "output_type": "execute_result"
    }
   ],
   "source": [
    "# 재현율\n",
    "\n",
    "recall_score(y_test, predictions)"
   ]
  },
  {
   "cell_type": "markdown",
   "id": "93dedf01",
   "metadata": {},
   "source": [
    "## F1 - score\n",
    "\n",
    "- 재현율(recall)과 정밀도(precision)가 한쪽으로 치우치지 않았는지 나타내는 지표\n",
    "- 재현율과 정밀도는 한쪽이 높아지면, 다른쪽이 낮아지는 관계\n",
    "- 데이터가 심각한 불균형 상태일 때 성능 평가를 제대로 하기 위해 사용\n",
    "- 데이터 불균형을 보정한 분류 성능\n",
    "- 데이터가 불균형한 상태에서도 얼마나 잘 맞추었는가?\n",
    "- 2 x Precision x Recall / Precision + Recall"
   ]
  },
  {
   "cell_type": "code",
   "execution_count": 16,
   "id": "664cd674",
   "metadata": {},
   "outputs": [],
   "source": [
    "from sklearn.metrics import f1_score"
   ]
  },
  {
   "cell_type": "code",
   "execution_count": 17,
   "id": "1a443db9",
   "metadata": {},
   "outputs": [
    {
     "data": {
      "text/plain": [
       "0.9411764705882354"
      ]
     },
     "execution_count": 17,
     "metadata": {},
     "output_type": "execute_result"
    }
   ],
   "source": [
    "# f1 score\n",
    "\n",
    "f1_score(y_test, predictions)"
   ]
  },
  {
   "cell_type": "markdown",
   "id": "e712ec88",
   "metadata": {},
   "source": [
    "## ROC(receiver operator characteristic) 커브\n",
    "\n",
    "- 분류 모델의 판단 기준을 연속적으로 바꾸면서 성능에 어떤 변화가 있는지 측정하는 방법\n",
    "- TPR(true positive rate): 참 값에 대해 참으로 바로 예측하는 비율\n",
    "    - TP / TP + FN\n",
    "- FPR(false positive rate): 거짓 값에 대해 참으로 틀리게 예측하는 비율\n",
    "    - FP / FP + TN\n",
    "- 커브 아래 면적을 AUC(area under the roc curve)라고 함\n",
    "- AUC 면적이 클수록 분류 성능이 좋은 모델"
   ]
  },
  {
   "cell_type": "code",
   "execution_count": 18,
   "id": "da7d19e8",
   "metadata": {},
   "outputs": [],
   "source": [
    "from sklearn.metrics import roc_curve\n",
    "from sklearn.metrics import roc_auc_score"
   ]
  },
  {
   "cell_type": "code",
   "execution_count": 19,
   "id": "25ce03ea",
   "metadata": {},
   "outputs": [
    {
     "data": {
      "image/png": "[encoded data removed]",
      "text/plain": [
       "<Figure size 432x288 with 1 Axes>"
      ]
     },
     "metadata": {
      "needs_background": "light"
     },
     "output_type": "display_data"
    }
   ],
   "source": [
    "# ROC 커브 시각화\n",
    "\n",
    "fpr, tpr, _ = roc_curve(y_test, predictions)\n",
    "auc = roc_auc_score(y_test, predictions)\n",
    "plt.plot(fpr, tpr, label = 'auc = ' + str(auc))\n",
    "plt.legend(loc = 'lower right')\n",
    "plt.xlabel('False Positive Rate')\n",
    "plt.ylabel('True Positive Rate')\n",
    "plt.show()"
   ]
  },
  {
   "cell_type": "markdown",
   "id": "feeb4f74",
   "metadata": {},
   "source": [
    "## 전체 분류 모델 성능 지표"
   ]
  },
  {
   "cell_type": "code",
   "execution_count": 20,
   "id": "8c45a864",
   "metadata": {},
   "outputs": [
    {
     "name": "stdout",
     "output_type": "stream",
     "text": [
      "accuracy: 0.94\n",
      "precision: 0.91\n",
      "recall: 0.97\n",
      "f1_score: 0.94\n",
      "auc_score: 0.94\n"
     ]
    }
   ],
   "source": [
    "accuracy = accuracy_score(y_test, predictions)\n",
    "precision = precision_score(y_test, predictions)\n",
    "recall = recall_score(y_test, predictions)\n",
    "f1_score = f1_score(y_test, predictions)\n",
    "auc_score = roc_auc_score(y_test, predictions)\n",
    "\n",
    "print('accuracy: {}'.format(round(accuracy, 2)))\n",
    "print('precision: {}'.format(round(precision, 2)))\n",
    "print('recall: {}'.format(round(recall, 2)))\n",
    "print('f1_score: {}'.format(round(f1_score, 2)))\n",
    "print('auc_score: {}'.format(round(auc_score, 2)))"
   ]
  }
 ],
 "metadata": {
  "kernelspec": {
   "display_name": "Python 3 (ipykernel)",
   "language": "python",
   "name": "python3"
  },
  "language_info": {
   "codemirror_mode": {
    "name": "ipython",
    "version": 3
   },
   "file_extension": ".py",
   "mimetype": "text/x-python",
   "name": "python",
   "nbconvert_exporter": "python",
   "pygments_lexer": "ipython3",
   "version": "3.9.12"
  }
 },
 "nbformat": 4,
 "nbformat_minor": 5
}
