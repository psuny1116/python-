{
 "cells": [
  {
   "cell_type": "markdown",
   "id": "d59395e4",
   "metadata": {},
   "source": [
    "# | (비트(이진수) or) 연산자"
   ]
  },
  {
   "cell_type": "markdown",
   "id": "b39ea7bd",
   "metadata": {},
   "source": [
    "## 비트 연산자\n",
    "\n",
    "- 수를 2진수로 변환한 뒤 각 자릿수를 비트 연산자로 연산\n",
    "\n",
    "## 비트 or 연산자\n",
    "\n",
    "- 2진수인 두 숫자의 각 자릿수를 비교하여 \n",
    "- 각 자릿수가 모두 0이면 0\n",
    "- 모두 1이면 1\n",
    "- 둘 중 하나라도 1이면 1을 반환"
   ]
  },
  {
   "cell_type": "code",
   "execution_count": 16,
   "id": "4d8232fb",
   "metadata": {},
   "outputs": [
    {
     "name": "stdout",
     "output_type": "stream",
     "text": [
      "0b1001\n",
      "0b11110\n",
      "0b11111\n",
      "\n",
      "0b10100\n",
      "0b1\n",
      "0b10101\n",
      "\n",
      "0b11100\n",
      "0b10101\n",
      "0b11101\n",
      "\n"
     ]
    }
   ],
   "source": [
    "arr1 = [9, 20, 28]\n",
    "arr2 = [30, 1, 21]\n",
    "\n",
    "print(bin(arr1[0]))\n",
    "print(bin(arr2[0]))\n",
    "print(bin(arr1[0] | arr2[0]))\n",
    "print()\n",
    "print(bin(arr1[1]))\n",
    "print(bin(arr2[1]))\n",
    "print(bin(arr1[1] | arr2[1]))\n",
    "print()\n",
    "print(bin(arr1[2]))\n",
    "print(bin(arr2[2]))\n",
    "print(bin(arr1[2] | arr2[2]))\n",
    "print()"
   ]
  },
  {
   "cell_type": "code",
   "execution_count": 19,
   "id": "849fbef0",
   "metadata": {},
   "outputs": [
    {
     "data": {
      "text/plain": [
       "['#####', '# # #', '### #', '#  ##', '#####']"
      ]
     },
     "execution_count": 19,
     "metadata": {},
     "output_type": "execute_result"
    }
   ],
   "source": [
    "n = 5\n",
    "arr1 = [9, 20, 28, 18, 11]\n",
    "arr2 = [30, 1, 21, 17, 28]\n",
    "\n",
    "answer = []\n",
    "for i in range(n):\n",
    "    bin_str = bin(arr1[i] | arr2[i])[2:]\n",
    "    answer.append((bin_str).replace('1', '#').replace('0', ' '))\n",
    "answer"
   ]
  }
 ],
 "metadata": {
  "kernelspec": {
   "display_name": "Python 3 (ipykernel)",
   "language": "python",
   "name": "python3"
  },
  "language_info": {
   "codemirror_mode": {
    "name": "ipython",
    "version": 3
   },
   "file_extension": ".py",
   "mimetype": "text/x-python",
   "name": "python",
   "nbconvert_exporter": "python",
   "pygments_lexer": "ipython3",
   "version": "3.9.12"
  }
 },
 "nbformat": 4,
 "nbformat_minor": 5
}
