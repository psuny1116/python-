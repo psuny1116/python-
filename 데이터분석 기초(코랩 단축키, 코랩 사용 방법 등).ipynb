{
 "cells": [
  {
   "cell_type": "markdown",
   "metadata": {},
   "source": [
    "# 파이썬 데이터분석 파이프라인\n",
    "\n",
    "1. 데이터 전처리: Numpy, Pandas\n",
    "2. 데이터 시각화: matplotlib, seaborn, folium\n",
    "3. 예측분석: scikit-learn"
   ]
  },
  {
   "cell_type": "markdown",
   "metadata": {},
   "source": [
    "# 코랩 단축키\n",
    "\n",
    "1. 셀 종류 변경: 코드 셀로 변경(ctrl + M + Y) / 텍스트 셀로 변경(ctrl + M + M)\n",
    "2. 셀 삽입: 상단 셀 삽입(ctrl + M + A) / 하단 셀 삽입(ctrl + M + B)\n",
    "3. 셀 삭제: ctrl + M + D\n",
    "4. 셀 실행\n",
    "    - 해당 셀 실행 후 커서 해당 셀: ctrl + enter\n",
    "    - 해당 셀 실행 후 커서 다음 셀: shift + enter\n",
    "    - 해당 셀 실행 후 다음 셀 삽입: alt + enter\n",
    "    - 한번에 여러 셀 실행: ctrl/shift + 마우스로 여러 셀 선택 -> ctrl + shift + enter\n",
    "5. 코랩 단축키 모음: ctrl + M + H"
   ]
  },
  {
   "cell_type": "markdown",
   "metadata": {},
   "source": [
    "# 코랩 GPU 사용\n",
    "\n",
    "- 상단 수정 -> 노트 설정 -> 하드웨어 가속기 -> GPU"
   ]
  },
  {
   "cell_type": "markdown",
   "metadata": {},
   "source": [
    "# 코랩 드라이브 마운트\n",
    "\n",
    "```python\n",
    "from google.colab import drive\n",
    "drive.mount('/content/drive')\n",
    "```"
   ]
  },
  {
   "cell_type": "markdown",
   "metadata": {},
   "source": [
    "# 코랩 파일 업로드 방법\n",
    "\n",
    "1. 파일 탐색기 활용\n",
    "\n",
    "```python\n",
    "from google.colab import files\n",
    "myfile = files.upload()\n",
    "```\n",
    "\n",
    "2. 직접 구글 드라이브에 업로드\n",
    "\n",
    "- 구글 드라이브에 직접 파일 업로드 후 경로 복사 하여 파일 읽기\n",
    "\n",
    "```python\n",
    "filepath = '/content/drive/MyDrive/~~.csv'\n",
    "data = pd.read_csv(filepath)\n",
    "```"
   ]
  },
  {
   "cell_type": "markdown",
   "metadata": {},
   "source": [
    "# 마크다운\n",
    "\n",
    "1. 수평선: - 또는 * 또는 _ 을 3개 이상 작성\n",
    "---\n",
    "***\n",
    "___\n",
    "\n",
    "2. 줄바꿈: 텍스트 뒤에 `<br>` 입력\n",
    "3. 강조\n",
    "    - 기울여 쓰기: * 또는 _ 를 텍스트 앞 뒤에 입력\n",
    "    - 두껍게 쓰기: ** 또는 __ 를 텍스트 앞 뒤에 입력\n",
    "    - 취소선: ~~ 를 텍스트 앞 뒤에 입력\n",
    "4. 인용구: > 으로 시작하는 텍스트(>는 3개까지 가능)\n",
    "5. 목록\n",
    "    - 순서가 없는 경우: -, +, * 를 이용\n",
    "    - 순서가 있는 경우: (숫자). 형식 이용\n",
    "    - 들여쓰기: tab 이용\n",
    "6. 특수문자: 백슬래시\\를 앞에 사용하면 특수문자 표현 가능\n",
    "7. 링크 삽입: [링크 이름](링크 주소)<br>\n",
    "    예: [네이버](https://www.naver.com/)\n",
    "8. 이미지 삽입 <br>"
   ]
  },
  {
   "cell_type": "code",
   "execution_count": 1,
   "metadata": {},
   "outputs": [
    {
     "data": {
      "text/html": [
       "<iframe src='https://t1.daumcdn.net/cfile/tistory/99DFAA415D3A558E01'\n",
       "width='1000' height='500' frameborder='0' allowfullscreen></iframe>\n"
      ],
      "text/plain": [
       "<IPython.core.display.HTML object>"
      ]
     },
     "metadata": {},
     "output_type": "display_data"
    }
   ],
   "source": [
    "%%html\n",
    "<iframe src='https://t1.daumcdn.net/cfile/tistory/99DFAA415D3A558E01'\n",
    "width='1000' height='500' frameborder='0' allowfullscreen></iframe>"
   ]
  },
  {
   "cell_type": "markdown",
   "metadata": {},
   "source": [
    "9. 동영상 삽입(유튜브 동영상 삽입: 'https://youtube.com/embed/{동영상코드}')"
   ]
  },
  {
   "cell_type": "code",
   "execution_count": 3,
   "metadata": {},
   "outputs": [
    {
     "data": {
      "text/html": [
       "<iframe src='https://youtube.com/embed/VyK77SOIgZY'\n",
       "width='560' height='315' frameborder='0' allowfullscreen></iframe>\n"
      ],
      "text/plain": [
       "<IPython.core.display.HTML object>"
      ]
     },
     "metadata": {},
     "output_type": "display_data"
    }
   ],
   "source": [
    "%%html\n",
    "<iframe src='https://youtube.com/embed/VyK77SOIgZY'\n",
    "width='560' height='315' frameborder='0' allowfullscreen></iframe>"
   ]
  },
  {
   "cell_type": "code",
   "execution_count": null,
   "metadata": {},
   "outputs": [],
   "source": []
  }
 ],
 "metadata": {
  "kernelspec": {
   "display_name": "Python 3",
   "language": "python",
   "name": "python3"
  },
  "language_info": {
   "codemirror_mode": {
    "name": "ipython",
    "version": 3
   },
   "file_extension": ".py",
   "mimetype": "text/x-python",
   "name": "python",
   "nbconvert_exporter": "python",
   "pygments_lexer": "ipython3",
   "version": "3.7.6"
  }
 },
 "nbformat": 4,
 "nbformat_minor": 4
}
