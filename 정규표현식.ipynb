{
 "cells": [
  {
   "cell_type": "markdown",
   "id": "6f9e47a5",
   "metadata": {},
   "source": [
    "#### 정규표현식 모듈\n",
    "\n",
    "```python\n",
    "import re\n",
    "```"
   ]
  },
  {
   "cell_type": "markdown",
   "id": "a431a1c7",
   "metadata": {},
   "source": [
    "#### 메타 문자\n",
    "\n",
    "메타문자 | 설명\n",
    "-|-\n",
    "[]|문자 클래스\n",
    ".|\\n을 제외한 모든 문자와 매치(점 하나는 글자 하나를 의미)\n",
    "* | 0회 이상 반복(없어도 상관 없음)\n",
    "+ | 1회 이상 반복(무조건 한 번 이상 등장해야 함)\n",
    "{m, n} | m회 이상 n회 이하\n",
    "^ | 문자열의 시작 의미\n",
    "$ | 문자열의 끝 의미\n",
    "? | 0회 이상 1회 이하\n",
    "\\ | 이스케이프, 또는 메타문자를 일반문자로 인식하게 함\n",
    "() | 그룹핑, 추출할 패턴을 지정"
   ]
  },
  {
   "cell_type": "code",
   "execution_count": 3,
   "id": "5cbd8af6",
   "metadata": {},
   "outputs": [
    {
     "data": {
      "text/plain": [
       "re.compile(r'(\\d+)([SDT])([*#]?)', re.UNICODE)"
      ]
     },
     "execution_count": 3,
     "metadata": {},
     "output_type": "execute_result"
    }
   ],
   "source": [
    "import re     # 정규표현식 모듈\n",
    "\n",
    "p = re.compile('(\\d+)([SDT])([*#]?)')\n",
    "p"
   ]
  },
  {
   "cell_type": "markdown",
   "id": "d9c05753",
   "metadata": {},
   "source": [
    "- \\d는 숫자\n",
    "- \\d+는 숫자가 1회 이상 반복함을 의미(무조건 한 번 이상 등장해야 함)\n",
    "- [SDT]는 문자 S, D, T를 의미\n",
    "- [* #]?은 문자 * , #이 0회 이상 1회 이하 존재하는 것을 의미"
   ]
  },
  {
   "cell_type": "code",
   "execution_count": 5,
   "id": "60c8b4fa",
   "metadata": {},
   "outputs": [
    {
     "data": {
      "text/plain": [
       "[('1', 'S', ''), ('2', 'D', '*'), ('3', 'T', '')]"
      ]
     },
     "execution_count": 5,
     "metadata": {},
     "output_type": "execute_result"
    }
   ],
   "source": [
    "dartResult = '1S2D*3T'\n",
    "\n",
    "bonus = {'S' : 1, 'D' : 2, 'T' : 3}\n",
    "option = {'' : 1, '*' : 2, '#' : -1}\n",
    "p = re.compile('(\\d+)([SDT])([*#]?)')\n",
    "dart = p.findall(dartResult)     # findall: 문자열 패턴 찾기\n",
    "## 여기서는 위에 정의한 정규표현식의 문자열 패턴을 찾음\n",
    "\n",
    "dart"
   ]
  },
  {
   "cell_type": "code",
   "execution_count": 8,
   "id": "6c59186c",
   "metadata": {},
   "outputs": [
    {
     "data": {
      "text/plain": [
       "37"
      ]
     },
     "execution_count": 8,
     "metadata": {},
     "output_type": "execute_result"
    }
   ],
   "source": [
    "for i in range(len(dart)):\n",
    "    if dart[i][2] == '*' and i > 0:\n",
    "        dart[i - 1] *= 2\n",
    "    dart[i] = int(dart[i][0]) ** bonus[dart[i][1]] * option[dart[i][2]]\n",
    "sum(dart)"
   ]
  }
 ],
 "metadata": {
  "kernelspec": {
   "display_name": "Python 3 (ipykernel)",
   "language": "python",
   "name": "python3"
  },
  "language_info": {
   "codemirror_mode": {
    "name": "ipython",
    "version": 3
   },
   "file_extension": ".py",
   "mimetype": "text/x-python",
   "name": "python",
   "nbconvert_exporter": "python",
   "pygments_lexer": "ipython3",
   "version": "3.9.12"
  }
 },
 "nbformat": 4,
 "nbformat_minor": 5
}
