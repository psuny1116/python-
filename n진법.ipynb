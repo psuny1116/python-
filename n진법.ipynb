{
 "cells": [
  {
   "cell_type": "markdown",
   "id": "1ac7cab0",
   "metadata": {},
   "source": [
    "# 3진법"
   ]
  },
  {
   "cell_type": "code",
   "execution_count": 3,
   "id": "f8649b7b",
   "metadata": {},
   "outputs": [],
   "source": [
    "# 3진법 거꾸로 변환\n",
    "## 예를 들어, 45를 3진법으로 변환하면 1200인데 이를 앞뒤 바꾸면 0021\n",
    "\n",
    "def solution(n):\n",
    "    tmp = ''\n",
    "    while n:\n",
    "        tmp += str(n % 3)\n",
    "        n = n // 3\n",
    "    tmp     # 앞뒤 반전한 3진법"
   ]
  },
  {
   "cell_type": "markdown",
   "id": "b33af408",
   "metadata": {},
   "source": [
    "- 45 % 3 = 0 => tmp = 0\n",
    "- 45 // 3 = 15 => n = 15\n",
    "\n",
    "\n",
    "- 15 % 3 = 0 => tmp = 00\n",
    "- 15 // 3 = 5 => n = 5\n",
    "\n",
    "\n",
    "- 5 % 3 => tmp = 002\n",
    "- 5 // 3 => n = 1\n",
    "\n",
    "\n",
    "- 1 % 3 => tmp = 0021\n",
    "- 1 // 3 => n = 0"
   ]
  },
  {
   "cell_type": "markdown",
   "id": "ab08b6b9",
   "metadata": {},
   "source": [
    "# 3진수를 10진법으로 바꾸는 방법\n",
    "\n",
    "```python\n",
    "int(3진수, 3)\n",
    "```"
   ]
  },
  {
   "cell_type": "code",
   "execution_count": null,
   "id": "bd9a11c4",
   "metadata": {},
   "outputs": [],
   "source": []
  }
 ],
 "metadata": {
  "kernelspec": {
   "display_name": "Python 3 (ipykernel)",
   "language": "python",
   "name": "python3"
  },
  "language_info": {
   "codemirror_mode": {
    "name": "ipython",
    "version": 3
   },
   "file_extension": ".py",
   "mimetype": "text/x-python",
   "name": "python",
   "nbconvert_exporter": "python",
   "pygments_lexer": "ipython3",
   "version": "3.9.12"
  }
 },
 "nbformat": 4,
 "nbformat_minor": 5
}
