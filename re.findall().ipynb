{
 "cells": [
  {
   "cell_type": "markdown",
   "id": "cf11f238",
   "metadata": {},
   "source": [
    "# re.findall()\n",
    "\n",
    "- 정규표현식과 매치되는 모든 문자열들을 리스트로 반환\n",
    "- 매치되는 문자열이 없으면 빈 리스트를 리턴"
   ]
  },
  {
   "cell_type": "code",
   "execution_count": 6,
   "id": "ceba9cc0",
   "metadata": {},
   "outputs": [
    {
     "name": "stdout",
     "output_type": "stream",
     "text": [
      "['177'] ['93']\n"
     ]
    }
   ],
   "source": [
    "text = '177cm/93kg'\n",
    "\n",
    "import re\n",
    "height = re.findall('\\d+', text.split('/')[0])     # \\d: 모든 숫자.[0-9]와 동일. +는 숫자가 이어지면 계속을 뜻함\n",
    "weight = re.findall('\\d+', text.split('/')[1])\n",
    "print(height, weight)"
   ]
  }
 ],
 "metadata": {
  "kernelspec": {
   "display_name": "Python 3 (ipykernel)",
   "language": "python",
   "name": "python3"
  },
  "language_info": {
   "codemirror_mode": {
    "name": "ipython",
    "version": 3
   },
   "file_extension": ".py",
   "mimetype": "text/x-python",
   "name": "python",
   "nbconvert_exporter": "python",
   "pygments_lexer": "ipython3",
   "version": "3.9.12"
  }
 },
 "nbformat": 4,
 "nbformat_minor": 5
}
