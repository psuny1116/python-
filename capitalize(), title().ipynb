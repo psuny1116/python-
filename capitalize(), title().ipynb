{
 "cells": [
  {
   "cell_type": "markdown",
   "metadata": {},
   "source": [
    "# capitalize()\n",
    "\n",
    "- 문자열의 첫글자는 대문자로, 나머지는 소문자로 변환"
   ]
  },
  {
   "cell_type": "code",
   "execution_count": 1,
   "metadata": {},
   "outputs": [
    {
     "name": "stdout",
     "output_type": "stream",
     "text": [
      "Hello world\n",
      "4hello world\n",
      "Hello world\n"
     ]
    }
   ],
   "source": [
    "print('hello world'.capitalize())\n",
    "print('4hello world'.capitalize())\n",
    "print('HELLO WORLD'.capitalize())"
   ]
  },
  {
   "cell_type": "markdown",
   "metadata": {},
   "source": [
    "# title()\n",
    "\n",
    "- 문자열 내 띄어쓰기 기준으로 각 단어의 첫글자는 대문자로, 나머지는 소문자로 변환"
   ]
  },
  {
   "cell_type": "code",
   "execution_count": 2,
   "metadata": {},
   "outputs": [
    {
     "name": "stdout",
     "output_type": "stream",
     "text": [
      "Hello World\n",
      "4Hello World\n",
      "Hello World\n"
     ]
    }
   ],
   "source": [
    "print('hello world'.title())\n",
    "print('4hello world'.title())\n",
    "print('HELLO WORLD'.title())"
   ]
  }
 ],
 "metadata": {
  "kernelspec": {
   "display_name": "Python 3",
   "language": "python",
   "name": "python3"
  },
  "language_info": {
   "codemirror_mode": {
    "name": "ipython",
    "version": 3
   },
   "file_extension": ".py",
   "mimetype": "text/x-python",
   "name": "python",
   "nbconvert_exporter": "python",
   "pygments_lexer": "ipython3",
   "version": "3.7.6"
  }
 },
 "nbformat": 4,
 "nbformat_minor": 4
}
