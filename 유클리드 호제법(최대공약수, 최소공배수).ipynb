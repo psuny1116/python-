{
 "cells": [
  {
   "cell_type": "markdown",
   "id": "f4417325",
   "metadata": {},
   "source": [
    "# 유클리드 호제법\n",
    "\n",
    "- 두 수의 최대공약수를 구하는 알고리즘\n",
    "- 2개의 자연수 a, b에 대해 a를 b로 나눈 나머지를 r이라 하면(a > b)\n",
    "- a와 b의 최대공약수는 b와 r의 최대공약수와 같음\n",
    "- 이러한 과정을 반복하여 나머지가 0이 되었을 때 나누는 수가 a와 b의 최대공약수"
   ]
  },
  {
   "cell_type": "code",
   "execution_count": 2,
   "id": "edc95e8d",
   "metadata": {},
   "outputs": [
    {
     "name": "stdout",
     "output_type": "stream",
     "text": [
      "3 12\n"
     ]
    }
   ],
   "source": [
    "a = 12\n",
    "b = 3\n",
    "t = 1\n",
    "\n",
    "i, j = max(a, b), min(a, b)\n",
    "while t > 0:\n",
    "    t = i % j     # a와 b의 나머지\n",
    "    i, j = j, t\n",
    "    \n",
    "print(i, int(a * b / i))     # 최대공약수, 최소공배수"
   ]
  },
  {
   "cell_type": "code",
   "execution_count": 3,
   "id": "79de42d0",
   "metadata": {},
   "outputs": [
    {
     "name": "stdout",
     "output_type": "stream",
     "text": [
      "1 10\n"
     ]
    }
   ],
   "source": [
    "a = 2\n",
    "b = 5\n",
    "t = 1\n",
    "\n",
    "i, j = max(a, b), min(a, b)\n",
    "while t > 0:\n",
    "    t = i % j     # a와 b의 나머지\n",
    "    i, j = j, t\n",
    "    \n",
    "print(i, int(a * b / i))     # 최대공약수, 최소공배수"
   ]
  },
  {
   "cell_type": "code",
   "execution_count": null,
   "id": "f21aa6a4",
   "metadata": {},
   "outputs": [],
   "source": []
  }
 ],
 "metadata": {
  "kernelspec": {
   "display_name": "Python 3 (ipykernel)",
   "language": "python",
   "name": "python3"
  },
  "language_info": {
   "codemirror_mode": {
    "name": "ipython",
    "version": 3
   },
   "file_extension": ".py",
   "mimetype": "text/x-python",
   "name": "python",
   "nbconvert_exporter": "python",
   "pygments_lexer": "ipython3",
   "version": "3.9.12"
  }
 },
 "nbformat": 4,
 "nbformat_minor": 5
}
