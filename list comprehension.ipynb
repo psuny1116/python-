{
 "cells": [
  {
   "cell_type": "markdown",
   "id": "c9e691f3",
   "metadata": {},
   "source": [
    "# list comprehension\n",
    "\n",
    "- for문을 사용하는 경우보다 빠름\n",
    "- 기본문법\n",
    "    - 리스트형 = [변수 for 변수 in [변수1, 변수2, 변수3,...]]\n",
    "    - 리스트형 = [변수 for 변수 in [변수1, 변수2, 변수3,...] if 조건문]"
   ]
  },
  {
   "cell_type": "code",
   "execution_count": 1,
   "id": "a3f08dd4",
   "metadata": {},
   "outputs": [
    {
     "data": {
      "text/plain": [
       "[0, 1, 2, 3, 4, 5, 6, 7, 8, 9]"
      ]
     },
     "execution_count": 1,
     "metadata": {},
     "output_type": "execute_result"
    }
   ],
   "source": [
    "# 1 ~ 10 출력\n",
    "num_list = [i for i in range(10)]\n",
    "num_list"
   ]
  },
  {
   "cell_type": "code",
   "execution_count": 2,
   "id": "53e4e77d",
   "metadata": {},
   "outputs": [
    {
     "data": {
      "text/plain": [
       "[1, 3, 5, 7, 9]"
      ]
     },
     "execution_count": 2,
     "metadata": {},
     "output_type": "execute_result"
    }
   ],
   "source": [
    "# 홀수만 출력\n",
    "odd_list = [i for i in range(10) if (i % 2) == 1]\n",
    "odd_list"
   ]
  }
 ],
 "metadata": {
  "kernelspec": {
   "display_name": "Python 3 (ipykernel)",
   "language": "python",
   "name": "python3"
  },
  "language_info": {
   "codemirror_mode": {
    "name": "ipython",
    "version": 3
   },
   "file_extension": ".py",
   "mimetype": "text/x-python",
   "name": "python",
   "nbconvert_exporter": "python",
   "pygments_lexer": "ipython3",
   "version": "3.9.12"
  }
 },
 "nbformat": 4,
 "nbformat_minor": 5
}
