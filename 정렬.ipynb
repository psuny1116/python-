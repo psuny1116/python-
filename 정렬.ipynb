{
 "cells": [
  {
   "cell_type": "markdown",
   "metadata": {},
   "source": [
    "# 1. 리스트 & 튜플 정렬"
   ]
  },
  {
   "cell_type": "markdown",
   "metadata": {},
   "source": [
    "## 1) sort\n",
    "\n",
    "- 리스트 및 튜플 자체를 정렬\n",
    "- return 값이 없음 / inplace = True로 설정한 것과 같음"
   ]
  },
  {
   "cell_type": "code",
   "execution_count": 1,
   "metadata": {},
   "outputs": [],
   "source": [
    "a_list = [1, 4, 3, 5, 2, 5]\n",
    "a_list.sort()     # return 값이 없고 리스트 자체가 수정됨"
   ]
  },
  {
   "cell_type": "code",
   "execution_count": 2,
   "metadata": {},
   "outputs": [
    {
     "data": {
      "text/plain": [
       "[1, 2, 3, 4, 5, 5]"
      ]
     },
     "execution_count": 2,
     "metadata": {},
     "output_type": "execute_result"
    }
   ],
   "source": [
    "a_list"
   ]
  },
  {
   "cell_type": "code",
   "execution_count": 3,
   "metadata": {},
   "outputs": [
    {
     "data": {
      "text/plain": [
       "[5, 5, 4, 3, 2, 1]"
      ]
     },
     "execution_count": 3,
     "metadata": {},
     "output_type": "execute_result"
    }
   ],
   "source": [
    "a_list = [1, 4, 3, 5, 2, 5]\n",
    "a_list.sort(reverse = True)     # 내림차순 정렬\n",
    "a_list"
   ]
  },
  {
   "cell_type": "markdown",
   "metadata": {},
   "source": [
    "## 2) sorted\n",
    "\n",
    "- 정렬된 리스트 및 튜플을 반환\n",
    "- key: 정렬 기준 함수(주로 lambda 함수를 사용)"
   ]
  },
  {
   "cell_type": "code",
   "execution_count": 4,
   "metadata": {},
   "outputs": [
    {
     "data": {
      "text/plain": [
       "[(3, 1), (1, 2), (10, 4), (4, 5)]"
      ]
     },
     "execution_count": 4,
     "metadata": {},
     "output_type": "execute_result"
    }
   ],
   "source": [
    "t = [(1, 2), (3, 1), (4, 5), (10, 4)]\n",
    "sorted(t, key = lambda x: x[1])     # x에서 1번째 요소를 기준으로 정렬"
   ]
  },
  {
   "cell_type": "code",
   "execution_count": 5,
   "metadata": {},
   "outputs": [
    {
     "data": {
      "text/plain": [
       "[3, 4, 2, 1, 5, 5]"
      ]
     },
     "execution_count": 5,
     "metadata": {},
     "output_type": "execute_result"
    }
   ],
   "source": [
    "l = [1, 4, 3, 5, 2, 5]\n",
    "sorted(l, key = lambda x: abs(x - 3))    # (x - 3)의 절대값을 기준으로 정렬"
   ]
  },
  {
   "cell_type": "code",
   "execution_count": 6,
   "metadata": {},
   "outputs": [
    {
     "data": {
      "text/plain": [
       "['data preprocessing', 'python', 'use', 'for', 'we']"
      ]
     },
     "execution_count": 6,
     "metadata": {},
     "output_type": "execute_result"
    }
   ],
   "source": [
    "l = ['we', 'use', 'python', 'for', 'data preprocessing']\n",
    "sorted(l, key = lambda x: len(x), reverse = True)     # 길이를 기준으로 내림차순 정렬"
   ]
  },
  {
   "cell_type": "markdown",
   "metadata": {},
   "source": [
    "# 2. series 정렬\n",
    "\n",
    "- sort_values 사용"
   ]
  },
  {
   "cell_type": "code",
   "execution_count": 7,
   "metadata": {},
   "outputs": [
    {
     "data": {
      "text/plain": [
       "0     NaN\n",
       "1     NaN\n",
       "2     NaN\n",
       "3     3.0\n",
       "4     1.0\n",
       "     ... \n",
       "95    8.0\n",
       "96    4.0\n",
       "97    1.0\n",
       "98    5.0\n",
       "99    8.0\n",
       "Length: 100, dtype: float64"
      ]
     },
     "execution_count": 7,
     "metadata": {},
     "output_type": "execute_result"
    }
   ],
   "source": [
    "import pandas as pd\n",
    "import numpy as np\n",
    "\n",
    "s = pd.Series(np.random.randint(1, 10, 100))     # 1과 10 사이의 숫자 100개 랜덤 생성\n",
    "s.iloc[0:3] = np.nan     # 0부터 3까지를 결측으로 변경\n",
    "s"
   ]
  },
  {
   "cell_type": "code",
   "execution_count": 8,
   "metadata": {},
   "outputs": [
    {
     "data": {
      "text/plain": [
       "76    1.0\n",
       "4     1.0\n",
       "5     1.0\n",
       "6     1.0\n",
       "97    1.0\n",
       "     ... \n",
       "45    9.0\n",
       "74    9.0\n",
       "0     NaN\n",
       "1     NaN\n",
       "2     NaN\n",
       "Length: 100, dtype: float64"
      ]
     },
     "execution_count": 8,
     "metadata": {},
     "output_type": "execute_result"
    }
   ],
   "source": [
    "s.sort_values()"
   ]
  },
  {
   "cell_type": "markdown",
   "metadata": {},
   "source": [
    "- ascending = True: 디폴트. 오름차순 정렬\n",
    "- key = None: 디폴트. 정렬 기준 함수(주로 lambda 함수와 사용)\n",
    "- na_position = last: 디폴트. 결측이 있는 경우 가장 마지막에 배치"
   ]
  },
  {
   "cell_type": "code",
   "execution_count": 9,
   "metadata": {},
   "outputs": [
    {
     "data": {
      "text/plain": [
       "74    9.0\n",
       "46    9.0\n",
       "45    9.0\n",
       "67    9.0\n",
       "64    9.0\n",
       "     ... \n",
       "50    1.0\n",
       "28    1.0\n",
       "0     NaN\n",
       "1     NaN\n",
       "2     NaN\n",
       "Length: 100, dtype: float64"
      ]
     },
     "execution_count": 9,
     "metadata": {},
     "output_type": "execute_result"
    }
   ],
   "source": [
    "s.sort_values(ascending = False)"
   ]
  },
  {
   "cell_type": "code",
   "execution_count": 10,
   "metadata": {},
   "outputs": [
    {
     "data": {
      "text/plain": [
       "0     NaN\n",
       "1     NaN\n",
       "2     NaN\n",
       "74    9.0\n",
       "46    9.0\n",
       "     ... \n",
       "4     1.0\n",
       "39    1.0\n",
       "76    1.0\n",
       "50    1.0\n",
       "28    1.0\n",
       "Length: 100, dtype: float64"
      ]
     },
     "execution_count": 10,
     "metadata": {},
     "output_type": "execute_result"
    }
   ],
   "source": [
    "s.sort_values(ascending = False, na_position = 'first')"
   ]
  },
  {
   "cell_type": "markdown",
   "metadata": {},
   "source": [
    "# 3. series 요약"
   ]
  },
  {
   "cell_type": "markdown",
   "metadata": {},
   "source": [
    "## 1) value_counts\n",
    "\n",
    "- series의 구성 요소의 빈도를 순서대로 출력"
   ]
  },
  {
   "cell_type": "code",
   "execution_count": 11,
   "metadata": {},
   "outputs": [
    {
     "data": {
      "text/plain": [
       "4.0    16\n",
       "6.0    13\n",
       "5.0    13\n",
       "1.0    12\n",
       "8.0    12\n",
       "9.0     9\n",
       "7.0     8\n",
       "3.0     7\n",
       "2.0     7\n",
       "dtype: int64"
      ]
     },
     "execution_count": 11,
     "metadata": {},
     "output_type": "execute_result"
    }
   ],
   "source": [
    "s.value_counts()"
   ]
  },
  {
   "cell_type": "code",
   "execution_count": 13,
   "metadata": {},
   "outputs": [
    {
     "data": {
      "text/plain": [
       "3.0     7\n",
       "2.0     7\n",
       "7.0     8\n",
       "9.0     9\n",
       "1.0    12\n",
       "8.0    12\n",
       "6.0    13\n",
       "5.0    13\n",
       "4.0    16\n",
       "dtype: int64"
      ]
     },
     "execution_count": 13,
     "metadata": {},
     "output_type": "execute_result"
    }
   ],
   "source": [
    "s.value_counts(ascending = True)     # ascending = True: 오름차순 정렬"
   ]
  },
  {
   "cell_type": "code",
   "execution_count": 14,
   "metadata": {},
   "outputs": [
    {
     "data": {
      "text/plain": [
       "4.0    0.164948\n",
       "6.0    0.134021\n",
       "5.0    0.134021\n",
       "1.0    0.123711\n",
       "8.0    0.123711\n",
       "9.0    0.092784\n",
       "7.0    0.082474\n",
       "3.0    0.072165\n",
       "2.0    0.072165\n",
       "dtype: float64"
      ]
     },
     "execution_count": 14,
     "metadata": {},
     "output_type": "execute_result"
    }
   ],
   "source": [
    "s.value_counts(normalize = True)     # 빈도 대신 비율 출력"
   ]
  },
  {
   "cell_type": "code",
   "execution_count": 15,
   "metadata": {},
   "outputs": [
    {
     "data": {
      "text/plain": [
       "3.0    0.072165\n",
       "2.0    0.072165\n",
       "7.0    0.082474\n",
       "9.0    0.092784\n",
       "1.0    0.123711\n",
       "8.0    0.123711\n",
       "6.0    0.134021\n",
       "5.0    0.134021\n",
       "4.0    0.164948\n",
       "dtype: float64"
      ]
     },
     "execution_count": 15,
     "metadata": {},
     "output_type": "execute_result"
    }
   ],
   "source": [
    "s.value_counts(normalize = True, ascending = True)"
   ]
  },
  {
   "cell_type": "markdown",
   "metadata": {},
   "source": [
    "## 2) unique\n",
    "\n",
    "- series에 포함된 유니크한 값 출력\n",
    "- 출력 결과의 데이터 타입: ndarray\n",
    "- 범주형 변수와 연속형 변수를 판단하는데 사용 가능"
   ]
  },
  {
   "cell_type": "code",
   "execution_count": 16,
   "metadata": {},
   "outputs": [
    {
     "data": {
      "text/plain": [
       "array([nan,  3.,  1.,  2.,  6.,  5.,  4.,  9.,  8.,  7.])"
      ]
     },
     "execution_count": 16,
     "metadata": {},
     "output_type": "execute_result"
    }
   ],
   "source": [
    "s.unique()"
   ]
  },
  {
   "cell_type": "code",
   "execution_count": 17,
   "metadata": {},
   "outputs": [
    {
     "data": {
      "text/plain": [
       "10"
      ]
     },
     "execution_count": 17,
     "metadata": {},
     "output_type": "execute_result"
    }
   ],
   "source": [
    "len(s.unique())"
   ]
  },
  {
   "cell_type": "markdown",
   "metadata": {},
   "source": [
    "# 4. dataframe 정렬\n",
    "\n",
    "- sort_values 사용\n",
    "- by: 정렬 기준 칼럼\n",
    "- ascending: 오름차순 정렬 여부\n",
    "- key: 정렬 기준 함수(주로 lambda 사용)\n",
    "- na_position: 결측이 있는 경우 어디에 배치할 것인지 결정(first, last)"
   ]
  },
  {
   "cell_type": "code",
   "execution_count": 18,
   "metadata": {},
   "outputs": [
    {
     "data": {
      "text/html": [
       "<div>\n",
       "<style scoped>\n",
       "    .dataframe tbody tr th:only-of-type {\n",
       "        vertical-align: middle;\n",
       "    }\n",
       "\n",
       "    .dataframe tbody tr th {\n",
       "        vertical-align: top;\n",
       "    }\n",
       "\n",
       "    .dataframe thead th {\n",
       "        text-align: right;\n",
       "    }\n",
       "</style>\n",
       "<table border=\"1\" class=\"dataframe\">\n",
       "  <thead>\n",
       "    <tr style=\"text-align: right;\">\n",
       "      <th></th>\n",
       "      <th>a</th>\n",
       "      <th>b</th>\n",
       "      <th>c</th>\n",
       "    </tr>\n",
       "  </thead>\n",
       "  <tbody>\n",
       "    <tr>\n",
       "      <th>0</th>\n",
       "      <td>1</td>\n",
       "      <td>3</td>\n",
       "      <td>1</td>\n",
       "    </tr>\n",
       "    <tr>\n",
       "      <th>1</th>\n",
       "      <td>2</td>\n",
       "      <td>2</td>\n",
       "      <td>2</td>\n",
       "    </tr>\n",
       "    <tr>\n",
       "      <th>2</th>\n",
       "      <td>3</td>\n",
       "      <td>1</td>\n",
       "      <td>3</td>\n",
       "    </tr>\n",
       "    <tr>\n",
       "      <th>3</th>\n",
       "      <td>1</td>\n",
       "      <td>3</td>\n",
       "      <td>4</td>\n",
       "    </tr>\n",
       "    <tr>\n",
       "      <th>4</th>\n",
       "      <td>2</td>\n",
       "      <td>2</td>\n",
       "      <td>3</td>\n",
       "    </tr>\n",
       "    <tr>\n",
       "      <th>5</th>\n",
       "      <td>3</td>\n",
       "      <td>1</td>\n",
       "      <td>2</td>\n",
       "    </tr>\n",
       "  </tbody>\n",
       "</table>\n",
       "</div>"
      ],
      "text/plain": [
       "   a  b  c\n",
       "0  1  3  1\n",
       "1  2  2  2\n",
       "2  3  1  3\n",
       "3  1  3  4\n",
       "4  2  2  3\n",
       "5  3  1  2"
      ]
     },
     "execution_count": 18,
     "metadata": {},
     "output_type": "execute_result"
    }
   ],
   "source": [
    "df = pd.DataFrame({'a' : [1, 2, 3, 1, 2, 3], 'b' : [3, 2, 1, 3, 2, 1], 'c' : [1, 2, 3, 4, 3, 2]})\n",
    "df"
   ]
  },
  {
   "cell_type": "code",
   "execution_count": 19,
   "metadata": {},
   "outputs": [
    {
     "data": {
      "text/html": [
       "<div>\n",
       "<style scoped>\n",
       "    .dataframe tbody tr th:only-of-type {\n",
       "        vertical-align: middle;\n",
       "    }\n",
       "\n",
       "    .dataframe tbody tr th {\n",
       "        vertical-align: top;\n",
       "    }\n",
       "\n",
       "    .dataframe thead th {\n",
       "        text-align: right;\n",
       "    }\n",
       "</style>\n",
       "<table border=\"1\" class=\"dataframe\">\n",
       "  <thead>\n",
       "    <tr style=\"text-align: right;\">\n",
       "      <th></th>\n",
       "      <th>a</th>\n",
       "      <th>b</th>\n",
       "      <th>c</th>\n",
       "    </tr>\n",
       "  </thead>\n",
       "  <tbody>\n",
       "    <tr>\n",
       "      <th>0</th>\n",
       "      <td>1</td>\n",
       "      <td>3</td>\n",
       "      <td>1</td>\n",
       "    </tr>\n",
       "    <tr>\n",
       "      <th>3</th>\n",
       "      <td>1</td>\n",
       "      <td>3</td>\n",
       "      <td>4</td>\n",
       "    </tr>\n",
       "    <tr>\n",
       "      <th>1</th>\n",
       "      <td>2</td>\n",
       "      <td>2</td>\n",
       "      <td>2</td>\n",
       "    </tr>\n",
       "    <tr>\n",
       "      <th>4</th>\n",
       "      <td>2</td>\n",
       "      <td>2</td>\n",
       "      <td>3</td>\n",
       "    </tr>\n",
       "    <tr>\n",
       "      <th>2</th>\n",
       "      <td>3</td>\n",
       "      <td>1</td>\n",
       "      <td>3</td>\n",
       "    </tr>\n",
       "    <tr>\n",
       "      <th>5</th>\n",
       "      <td>3</td>\n",
       "      <td>1</td>\n",
       "      <td>2</td>\n",
       "    </tr>\n",
       "  </tbody>\n",
       "</table>\n",
       "</div>"
      ],
      "text/plain": [
       "   a  b  c\n",
       "0  1  3  1\n",
       "3  1  3  4\n",
       "1  2  2  2\n",
       "4  2  2  3\n",
       "2  3  1  3\n",
       "5  3  1  2"
      ]
     },
     "execution_count": 19,
     "metadata": {},
     "output_type": "execute_result"
    }
   ],
   "source": [
    "df.sort_values(by = 'a', ascending = True)     # a를 기준으로 오름차순 정렬"
   ]
  },
  {
   "cell_type": "code",
   "execution_count": 20,
   "metadata": {},
   "outputs": [
    {
     "data": {
      "text/html": [
       "<div>\n",
       "<style scoped>\n",
       "    .dataframe tbody tr th:only-of-type {\n",
       "        vertical-align: middle;\n",
       "    }\n",
       "\n",
       "    .dataframe tbody tr th {\n",
       "        vertical-align: top;\n",
       "    }\n",
       "\n",
       "    .dataframe thead th {\n",
       "        text-align: right;\n",
       "    }\n",
       "</style>\n",
       "<table border=\"1\" class=\"dataframe\">\n",
       "  <thead>\n",
       "    <tr style=\"text-align: right;\">\n",
       "      <th></th>\n",
       "      <th>a</th>\n",
       "      <th>b</th>\n",
       "      <th>c</th>\n",
       "    </tr>\n",
       "  </thead>\n",
       "  <tbody>\n",
       "    <tr>\n",
       "      <th>3</th>\n",
       "      <td>1</td>\n",
       "      <td>3</td>\n",
       "      <td>4</td>\n",
       "    </tr>\n",
       "    <tr>\n",
       "      <th>4</th>\n",
       "      <td>2</td>\n",
       "      <td>2</td>\n",
       "      <td>3</td>\n",
       "    </tr>\n",
       "    <tr>\n",
       "      <th>2</th>\n",
       "      <td>3</td>\n",
       "      <td>1</td>\n",
       "      <td>3</td>\n",
       "    </tr>\n",
       "    <tr>\n",
       "      <th>1</th>\n",
       "      <td>2</td>\n",
       "      <td>2</td>\n",
       "      <td>2</td>\n",
       "    </tr>\n",
       "    <tr>\n",
       "      <th>5</th>\n",
       "      <td>3</td>\n",
       "      <td>1</td>\n",
       "      <td>2</td>\n",
       "    </tr>\n",
       "    <tr>\n",
       "      <th>0</th>\n",
       "      <td>1</td>\n",
       "      <td>3</td>\n",
       "      <td>1</td>\n",
       "    </tr>\n",
       "  </tbody>\n",
       "</table>\n",
       "</div>"
      ],
      "text/plain": [
       "   a  b  c\n",
       "3  1  3  4\n",
       "4  2  2  3\n",
       "2  3  1  3\n",
       "1  2  2  2\n",
       "5  3  1  2\n",
       "0  1  3  1"
      ]
     },
     "execution_count": 20,
     "metadata": {},
     "output_type": "execute_result"
    }
   ],
   "source": [
    "df.sort_values(by = ['c', 'b'], ascending = False)     # c와 b를 기준으로 내림차순 정렬"
   ]
  },
  {
   "cell_type": "markdown",
   "metadata": {},
   "source": [
    "# 5. dataframe 중복 제거\n",
    "\n",
    "- drop_duplicates 사용(중복이 있는 행 제거)\n",
    "- subset: 중복 기준을 판단하는 칼럼\n",
    "- keep: 중복이 있는 행 중 어떤 부분을 남길 것인지 결정(first, last, false)\n",
    "    - first: 첫 번째 행을 남김\n",
    "    - last: 마지막 행을 남김\n",
    "    - false: 중복 행을 모두 제거"
   ]
  },
  {
   "cell_type": "code",
   "execution_count": 22,
   "metadata": {},
   "outputs": [
    {
     "data": {
      "text/html": [
       "<div>\n",
       "<style scoped>\n",
       "    .dataframe tbody tr th:only-of-type {\n",
       "        vertical-align: middle;\n",
       "    }\n",
       "\n",
       "    .dataframe tbody tr th {\n",
       "        vertical-align: top;\n",
       "    }\n",
       "\n",
       "    .dataframe thead th {\n",
       "        text-align: right;\n",
       "    }\n",
       "</style>\n",
       "<table border=\"1\" class=\"dataframe\">\n",
       "  <thead>\n",
       "    <tr style=\"text-align: right;\">\n",
       "      <th></th>\n",
       "      <th>a</th>\n",
       "      <th>b</th>\n",
       "      <th>c</th>\n",
       "    </tr>\n",
       "  </thead>\n",
       "  <tbody>\n",
       "    <tr>\n",
       "      <th>0</th>\n",
       "      <td>1</td>\n",
       "      <td>3</td>\n",
       "      <td>1</td>\n",
       "    </tr>\n",
       "    <tr>\n",
       "      <th>1</th>\n",
       "      <td>2</td>\n",
       "      <td>2</td>\n",
       "      <td>2</td>\n",
       "    </tr>\n",
       "    <tr>\n",
       "      <th>2</th>\n",
       "      <td>3</td>\n",
       "      <td>1</td>\n",
       "      <td>3</td>\n",
       "    </tr>\n",
       "  </tbody>\n",
       "</table>\n",
       "</div>"
      ],
      "text/plain": [
       "   a  b  c\n",
       "0  1  3  1\n",
       "1  2  2  2\n",
       "2  3  1  3"
      ]
     },
     "execution_count": 22,
     "metadata": {},
     "output_type": "execute_result"
    }
   ],
   "source": [
    "df.drop_duplicates(subset = ['a'])     # a 기준 중복 제거, 첫 행 남김(keep = first가 디폴트)"
   ]
  },
  {
   "cell_type": "code",
   "execution_count": 24,
   "metadata": {},
   "outputs": [
    {
     "data": {
      "text/html": [
       "<div>\n",
       "<style scoped>\n",
       "    .dataframe tbody tr th:only-of-type {\n",
       "        vertical-align: middle;\n",
       "    }\n",
       "\n",
       "    .dataframe tbody tr th {\n",
       "        vertical-align: top;\n",
       "    }\n",
       "\n",
       "    .dataframe thead th {\n",
       "        text-align: right;\n",
       "    }\n",
       "</style>\n",
       "<table border=\"1\" class=\"dataframe\">\n",
       "  <thead>\n",
       "    <tr style=\"text-align: right;\">\n",
       "      <th></th>\n",
       "      <th>a</th>\n",
       "      <th>b</th>\n",
       "      <th>c</th>\n",
       "    </tr>\n",
       "  </thead>\n",
       "  <tbody>\n",
       "    <tr>\n",
       "      <th>3</th>\n",
       "      <td>1</td>\n",
       "      <td>3</td>\n",
       "      <td>4</td>\n",
       "    </tr>\n",
       "    <tr>\n",
       "      <th>4</th>\n",
       "      <td>2</td>\n",
       "      <td>2</td>\n",
       "      <td>3</td>\n",
       "    </tr>\n",
       "    <tr>\n",
       "      <th>5</th>\n",
       "      <td>3</td>\n",
       "      <td>1</td>\n",
       "      <td>2</td>\n",
       "    </tr>\n",
       "  </tbody>\n",
       "</table>\n",
       "</div>"
      ],
      "text/plain": [
       "   a  b  c\n",
       "3  1  3  4\n",
       "4  2  2  3\n",
       "5  3  1  2"
      ]
     },
     "execution_count": 24,
     "metadata": {},
     "output_type": "execute_result"
    }
   ],
   "source": [
    "df.drop_duplicates(subset = ['a'], keep = 'last')     # a 기준 중복 제거, 마지막 행 남김"
   ]
  },
  {
   "cell_type": "markdown",
   "metadata": {},
   "source": [
    "# 6. 마스킹 검색\n",
    "\n",
    "- df.loc[bool 조건]: True인 요소의 위치에 대응되는 행만 가져옴"
   ]
  },
  {
   "cell_type": "code",
   "execution_count": 26,
   "metadata": {},
   "outputs": [
    {
     "data": {
      "text/html": [
       "<div>\n",
       "<style scoped>\n",
       "    .dataframe tbody tr th:only-of-type {\n",
       "        vertical-align: middle;\n",
       "    }\n",
       "\n",
       "    .dataframe tbody tr th {\n",
       "        vertical-align: top;\n",
       "    }\n",
       "\n",
       "    .dataframe thead th {\n",
       "        text-align: right;\n",
       "    }\n",
       "</style>\n",
       "<table border=\"1\" class=\"dataframe\">\n",
       "  <thead>\n",
       "    <tr style=\"text-align: right;\">\n",
       "      <th></th>\n",
       "      <th>쇼핑몰</th>\n",
       "      <th>제품</th>\n",
       "      <th>수량</th>\n",
       "      <th>판매금액</th>\n",
       "      <th>쇼핑몰 유형</th>\n",
       "    </tr>\n",
       "  </thead>\n",
       "  <tbody>\n",
       "    <tr>\n",
       "      <th>0</th>\n",
       "      <td>쿠팡</td>\n",
       "      <td>제품_16</td>\n",
       "      <td>8</td>\n",
       "      <td>1134400</td>\n",
       "      <td>쿠팡</td>\n",
       "    </tr>\n",
       "    <tr>\n",
       "      <th>1</th>\n",
       "      <td>쿠팡</td>\n",
       "      <td>제품_57</td>\n",
       "      <td>8</td>\n",
       "      <td>439200</td>\n",
       "      <td>쿠팡</td>\n",
       "    </tr>\n",
       "    <tr>\n",
       "      <th>2</th>\n",
       "      <td>쿠팡</td>\n",
       "      <td>제품_25</td>\n",
       "      <td>4</td>\n",
       "      <td>495200</td>\n",
       "      <td>쿠팡</td>\n",
       "    </tr>\n",
       "    <tr>\n",
       "      <th>3</th>\n",
       "      <td>쿠팡</td>\n",
       "      <td>제품_18</td>\n",
       "      <td>4</td>\n",
       "      <td>578000</td>\n",
       "      <td>쿠팡</td>\n",
       "    </tr>\n",
       "    <tr>\n",
       "      <th>4</th>\n",
       "      <td>쿠팡</td>\n",
       "      <td>제품_90</td>\n",
       "      <td>2</td>\n",
       "      <td>75000</td>\n",
       "      <td>쿠팡</td>\n",
       "    </tr>\n",
       "  </tbody>\n",
       "</table>\n",
       "</div>"
      ],
      "text/plain": [
       "  쇼핑몰     제품  수량     판매금액 쇼핑몰 유형\n",
       "0  쿠팡  제품_16   8  1134400     쿠팡\n",
       "1  쿠팡  제품_57   8   439200     쿠팡\n",
       "2  쿠팡  제품_25   4   495200     쿠팡\n",
       "3  쿠팡  제품_18   4   578000     쿠팡\n",
       "4  쿠팡  제품_90   2    75000     쿠팡"
      ]
     },
     "execution_count": 26,
     "metadata": {},
     "output_type": "execute_result"
    }
   ],
   "source": [
    "df = pd.read_csv('데이터/온라인_판매기록.csv', encoding = 'cp949')\n",
    "df.head()"
   ]
  },
  {
   "cell_type": "code",
   "execution_count": 27,
   "metadata": {},
   "outputs": [
    {
     "data": {
      "text/plain": [
       "0        True\n",
       "1       False\n",
       "2       False\n",
       "3       False\n",
       "4       False\n",
       "        ...  \n",
       "5810    False\n",
       "5811    False\n",
       "5812    False\n",
       "5813    False\n",
       "5814    False\n",
       "Name: 제품, Length: 5815, dtype: bool"
      ]
     },
     "execution_count": 27,
     "metadata": {},
     "output_type": "execute_result"
    }
   ],
   "source": [
    "df['제품'] == '제품_16'"
   ]
  },
  {
   "cell_type": "code",
   "execution_count": 29,
   "metadata": {},
   "outputs": [
    {
     "data": {
      "text/html": [
       "<div>\n",
       "<style scoped>\n",
       "    .dataframe tbody tr th:only-of-type {\n",
       "        vertical-align: middle;\n",
       "    }\n",
       "\n",
       "    .dataframe tbody tr th {\n",
       "        vertical-align: top;\n",
       "    }\n",
       "\n",
       "    .dataframe thead th {\n",
       "        text-align: right;\n",
       "    }\n",
       "</style>\n",
       "<table border=\"1\" class=\"dataframe\">\n",
       "  <thead>\n",
       "    <tr style=\"text-align: right;\">\n",
       "      <th></th>\n",
       "      <th>쇼핑몰</th>\n",
       "      <th>제품</th>\n",
       "      <th>수량</th>\n",
       "      <th>판매금액</th>\n",
       "      <th>쇼핑몰 유형</th>\n",
       "    </tr>\n",
       "  </thead>\n",
       "  <tbody>\n",
       "    <tr>\n",
       "      <th>0</th>\n",
       "      <td>쿠팡</td>\n",
       "      <td>제품_16</td>\n",
       "      <td>8</td>\n",
       "      <td>1134400</td>\n",
       "      <td>쿠팡</td>\n",
       "    </tr>\n",
       "    <tr>\n",
       "      <th>35</th>\n",
       "      <td>쿠팡</td>\n",
       "      <td>제품_16</td>\n",
       "      <td>7</td>\n",
       "      <td>992600</td>\n",
       "      <td>쿠팡</td>\n",
       "    </tr>\n",
       "    <tr>\n",
       "      <th>479</th>\n",
       "      <td>스누피동물병원</td>\n",
       "      <td>제품_16</td>\n",
       "      <td>9</td>\n",
       "      <td>1276200</td>\n",
       "      <td>동물병원</td>\n",
       "    </tr>\n",
       "    <tr>\n",
       "      <th>705</th>\n",
       "      <td>딩동이네</td>\n",
       "      <td>제품_16</td>\n",
       "      <td>8</td>\n",
       "      <td>1134400</td>\n",
       "      <td>유통대리점</td>\n",
       "    </tr>\n",
       "    <tr>\n",
       "      <th>708</th>\n",
       "      <td>딩동이네</td>\n",
       "      <td>제품_16</td>\n",
       "      <td>5</td>\n",
       "      <td>709000</td>\n",
       "      <td>유통대리점</td>\n",
       "    </tr>\n",
       "  </tbody>\n",
       "</table>\n",
       "</div>"
      ],
      "text/plain": [
       "         쇼핑몰     제품  수량     판매금액 쇼핑몰 유형\n",
       "0         쿠팡  제품_16   8  1134400     쿠팡\n",
       "35        쿠팡  제품_16   7   992600     쿠팡\n",
       "479  스누피동물병원  제품_16   9  1276200   동물병원\n",
       "705     딩동이네  제품_16   8  1134400  유통대리점\n",
       "708     딩동이네  제품_16   5   709000  유통대리점"
      ]
     },
     "execution_count": 29,
     "metadata": {},
     "output_type": "execute_result"
    }
   ],
   "source": [
    "df.loc[df['제품'] == '제품_16'].head()"
   ]
  },
  {
   "cell_type": "code",
   "execution_count": 30,
   "metadata": {},
   "outputs": [
    {
     "data": {
      "text/plain": [
       "array(['쿠팡', '온라인II', '온라인사이트', '동물병원', '할인점II', '유통대리점', '전시회', '할인점'],\n",
       "      dtype=object)"
      ]
     },
     "execution_count": 30,
     "metadata": {},
     "output_type": "execute_result"
    }
   ],
   "source": [
    "df['쇼핑몰 유형'].unique()"
   ]
  },
  {
   "cell_type": "code",
   "execution_count": 31,
   "metadata": {},
   "outputs": [
    {
     "data": {
      "text/html": [
       "<div>\n",
       "<style scoped>\n",
       "    .dataframe tbody tr th:only-of-type {\n",
       "        vertical-align: middle;\n",
       "    }\n",
       "\n",
       "    .dataframe tbody tr th {\n",
       "        vertical-align: top;\n",
       "    }\n",
       "\n",
       "    .dataframe thead th {\n",
       "        text-align: right;\n",
       "    }\n",
       "</style>\n",
       "<table border=\"1\" class=\"dataframe\">\n",
       "  <thead>\n",
       "    <tr style=\"text-align: right;\">\n",
       "      <th></th>\n",
       "      <th>쇼핑몰</th>\n",
       "      <th>제품</th>\n",
       "      <th>수량</th>\n",
       "      <th>판매금액</th>\n",
       "      <th>쇼핑몰 유형</th>\n",
       "    </tr>\n",
       "  </thead>\n",
       "  <tbody>\n",
       "    <tr>\n",
       "      <th>95</th>\n",
       "      <td>위메프</td>\n",
       "      <td>제품_63</td>\n",
       "      <td>3</td>\n",
       "      <td>400800</td>\n",
       "      <td>온라인II</td>\n",
       "    </tr>\n",
       "    <tr>\n",
       "      <th>96</th>\n",
       "      <td>위메프</td>\n",
       "      <td>제품_85</td>\n",
       "      <td>7</td>\n",
       "      <td>586600</td>\n",
       "      <td>온라인II</td>\n",
       "    </tr>\n",
       "    <tr>\n",
       "      <th>97</th>\n",
       "      <td>위메프</td>\n",
       "      <td>제품_95</td>\n",
       "      <td>3</td>\n",
       "      <td>291900</td>\n",
       "      <td>온라인II</td>\n",
       "    </tr>\n",
       "    <tr>\n",
       "      <th>98</th>\n",
       "      <td>위메프</td>\n",
       "      <td>제품_87</td>\n",
       "      <td>5</td>\n",
       "      <td>654000</td>\n",
       "      <td>온라인II</td>\n",
       "    </tr>\n",
       "    <tr>\n",
       "      <th>99</th>\n",
       "      <td>위메프</td>\n",
       "      <td>제품_31</td>\n",
       "      <td>10</td>\n",
       "      <td>684000</td>\n",
       "      <td>온라인II</td>\n",
       "    </tr>\n",
       "    <tr>\n",
       "      <th>...</th>\n",
       "      <td>...</td>\n",
       "      <td>...</td>\n",
       "      <td>...</td>\n",
       "      <td>...</td>\n",
       "      <td>...</td>\n",
       "    </tr>\n",
       "    <tr>\n",
       "      <th>5608</th>\n",
       "      <td>강아지대통령</td>\n",
       "      <td>제품_86</td>\n",
       "      <td>8</td>\n",
       "      <td>1110400</td>\n",
       "      <td>온라인사이트</td>\n",
       "    </tr>\n",
       "    <tr>\n",
       "      <th>5654</th>\n",
       "      <td>엔빵</td>\n",
       "      <td>제품_31</td>\n",
       "      <td>9</td>\n",
       "      <td>615600</td>\n",
       "      <td>온라인II</td>\n",
       "    </tr>\n",
       "    <tr>\n",
       "      <th>5655</th>\n",
       "      <td>엔빵</td>\n",
       "      <td>제품_96</td>\n",
       "      <td>5</td>\n",
       "      <td>393000</td>\n",
       "      <td>온라인II</td>\n",
       "    </tr>\n",
       "    <tr>\n",
       "      <th>5656</th>\n",
       "      <td>엔빵</td>\n",
       "      <td>제품_03</td>\n",
       "      <td>1</td>\n",
       "      <td>39100</td>\n",
       "      <td>온라인II</td>\n",
       "    </tr>\n",
       "    <tr>\n",
       "      <th>5657</th>\n",
       "      <td>엔빵</td>\n",
       "      <td>제품_10</td>\n",
       "      <td>7</td>\n",
       "      <td>869400</td>\n",
       "      <td>온라인II</td>\n",
       "    </tr>\n",
       "  </tbody>\n",
       "</table>\n",
       "<p>1730 rows × 5 columns</p>\n",
       "</div>"
      ],
      "text/plain": [
       "         쇼핑몰     제품  수량     판매금액  쇼핑몰 유형\n",
       "95       위메프  제품_63   3   400800   온라인II\n",
       "96       위메프  제품_85   7   586600   온라인II\n",
       "97       위메프  제품_95   3   291900   온라인II\n",
       "98       위메프  제품_87   5   654000   온라인II\n",
       "99       위메프  제품_31  10   684000   온라인II\n",
       "...      ...    ...  ..      ...     ...\n",
       "5608  강아지대통령  제품_86   8  1110400  온라인사이트\n",
       "5654      엔빵  제품_31   9   615600   온라인II\n",
       "5655      엔빵  제품_96   5   393000   온라인II\n",
       "5656      엔빵  제품_03   1    39100   온라인II\n",
       "5657      엔빵  제품_10   7   869400   온라인II\n",
       "\n",
       "[1730 rows x 5 columns]"
      ]
     },
     "execution_count": 31,
     "metadata": {},
     "output_type": "execute_result"
    }
   ],
   "source": [
    "df.loc[df['쇼핑몰 유형'].isin(['온라인II', '온라인사이트'])]"
   ]
  },
  {
   "cell_type": "code",
   "execution_count": 32,
   "metadata": {},
   "outputs": [
    {
     "data": {
      "text/html": [
       "<div>\n",
       "<style scoped>\n",
       "    .dataframe tbody tr th:only-of-type {\n",
       "        vertical-align: middle;\n",
       "    }\n",
       "\n",
       "    .dataframe tbody tr th {\n",
       "        vertical-align: top;\n",
       "    }\n",
       "\n",
       "    .dataframe thead th {\n",
       "        text-align: right;\n",
       "    }\n",
       "</style>\n",
       "<table border=\"1\" class=\"dataframe\">\n",
       "  <thead>\n",
       "    <tr style=\"text-align: right;\">\n",
       "      <th></th>\n",
       "      <th>쇼핑몰</th>\n",
       "      <th>제품</th>\n",
       "      <th>수량</th>\n",
       "      <th>판매금액</th>\n",
       "      <th>쇼핑몰 유형</th>\n",
       "    </tr>\n",
       "  </thead>\n",
       "  <tbody>\n",
       "    <tr>\n",
       "      <th>918</th>\n",
       "      <td>KPET</td>\n",
       "      <td>제품_71</td>\n",
       "      <td>5</td>\n",
       "      <td>143500</td>\n",
       "      <td>전시회</td>\n",
       "    </tr>\n",
       "    <tr>\n",
       "      <th>919</th>\n",
       "      <td>KPET</td>\n",
       "      <td>제품_26</td>\n",
       "      <td>6</td>\n",
       "      <td>478200</td>\n",
       "      <td>전시회</td>\n",
       "    </tr>\n",
       "    <tr>\n",
       "      <th>920</th>\n",
       "      <td>KPET</td>\n",
       "      <td>제품_49</td>\n",
       "      <td>8</td>\n",
       "      <td>358400</td>\n",
       "      <td>전시회</td>\n",
       "    </tr>\n",
       "    <tr>\n",
       "      <th>921</th>\n",
       "      <td>KPET</td>\n",
       "      <td>제품_33</td>\n",
       "      <td>7</td>\n",
       "      <td>1073100</td>\n",
       "      <td>전시회</td>\n",
       "    </tr>\n",
       "    <tr>\n",
       "      <th>923</th>\n",
       "      <td>KPET</td>\n",
       "      <td>제품_45</td>\n",
       "      <td>6</td>\n",
       "      <td>88200</td>\n",
       "      <td>전시회</td>\n",
       "    </tr>\n",
       "    <tr>\n",
       "      <th>...</th>\n",
       "      <td>...</td>\n",
       "      <td>...</td>\n",
       "      <td>...</td>\n",
       "      <td>...</td>\n",
       "      <td>...</td>\n",
       "    </tr>\n",
       "    <tr>\n",
       "      <th>1345</th>\n",
       "      <td>Kopet</td>\n",
       "      <td>제품_92</td>\n",
       "      <td>7</td>\n",
       "      <td>453600</td>\n",
       "      <td>전시회</td>\n",
       "    </tr>\n",
       "    <tr>\n",
       "      <th>1346</th>\n",
       "      <td>Kopet</td>\n",
       "      <td>제품_51</td>\n",
       "      <td>10</td>\n",
       "      <td>277000</td>\n",
       "      <td>전시회</td>\n",
       "    </tr>\n",
       "    <tr>\n",
       "      <th>1347</th>\n",
       "      <td>Kopet</td>\n",
       "      <td>제품_91</td>\n",
       "      <td>7</td>\n",
       "      <td>192500</td>\n",
       "      <td>전시회</td>\n",
       "    </tr>\n",
       "    <tr>\n",
       "      <th>1348</th>\n",
       "      <td>Kopet</td>\n",
       "      <td>제품_13</td>\n",
       "      <td>8</td>\n",
       "      <td>468800</td>\n",
       "      <td>전시회</td>\n",
       "    </tr>\n",
       "    <tr>\n",
       "      <th>1349</th>\n",
       "      <td>Kopet</td>\n",
       "      <td>제품_96</td>\n",
       "      <td>5</td>\n",
       "      <td>393000</td>\n",
       "      <td>전시회</td>\n",
       "    </tr>\n",
       "  </tbody>\n",
       "</table>\n",
       "<p>183 rows × 5 columns</p>\n",
       "</div>"
      ],
      "text/plain": [
       "        쇼핑몰     제품  수량     판매금액 쇼핑몰 유형\n",
       "918    KPET  제품_71   5   143500    전시회\n",
       "919    KPET  제품_26   6   478200    전시회\n",
       "920    KPET  제품_49   8   358400    전시회\n",
       "921    KPET  제품_33   7  1073100    전시회\n",
       "923    KPET  제품_45   6    88200    전시회\n",
       "...     ...    ...  ..      ...    ...\n",
       "1345  Kopet  제품_92   7   453600    전시회\n",
       "1346  Kopet  제품_51  10   277000    전시회\n",
       "1347  Kopet  제품_91   7   192500    전시회\n",
       "1348  Kopet  제품_13   8   468800    전시회\n",
       "1349  Kopet  제품_96   5   393000    전시회\n",
       "\n",
       "[183 rows x 5 columns]"
      ]
     },
     "execution_count": 32,
     "metadata": {},
     "output_type": "execute_result"
    }
   ],
   "source": [
    "df.loc[(df['수량'] >= 5) & (df['쇼핑몰 유형'] == '전시회')]"
   ]
  },
  {
   "cell_type": "markdown",
   "metadata": {},
   "source": [
    "# 7. 문자열 검색\n",
    "\n",
    "## series.str\n",
    "\n",
    "- series.str.strip(): 앞 뒤 공백 제거\n",
    "- series.str.contains(s): 문자열 s를 포함하고 있는지 여부를 반환\n",
    "- series.str.split(sep, expand): sep을 기준으로 series를 분할\n",
    "    - expand = True: 새로운 열 생성\n",
    "    - expand = False: 새로운 열을 생성하지 않고 리스트를 반환\n",
    "    \n",
    "## series.astype\n",
    "\n",
    "- series의 자료형을 변환\n",
    "- series.astype(str)"
   ]
  },
  {
   "cell_type": "code",
   "execution_count": 33,
   "metadata": {},
   "outputs": [
    {
     "data": {
      "text/html": [
       "<div>\n",
       "<style scoped>\n",
       "    .dataframe tbody tr th:only-of-type {\n",
       "        vertical-align: middle;\n",
       "    }\n",
       "\n",
       "    .dataframe tbody tr th {\n",
       "        vertical-align: top;\n",
       "    }\n",
       "\n",
       "    .dataframe thead th {\n",
       "        text-align: right;\n",
       "    }\n",
       "</style>\n",
       "<table border=\"1\" class=\"dataframe\">\n",
       "  <thead>\n",
       "    <tr style=\"text-align: right;\">\n",
       "      <th></th>\n",
       "      <th>시리얼번호</th>\n",
       "      <th>불량 여부</th>\n",
       "    </tr>\n",
       "  </thead>\n",
       "  <tbody>\n",
       "    <tr>\n",
       "      <th>0</th>\n",
       "      <td>S-A-001</td>\n",
       "      <td>양품</td>\n",
       "    </tr>\n",
       "    <tr>\n",
       "      <th>1</th>\n",
       "      <td>S-A-002</td>\n",
       "      <td>양품</td>\n",
       "    </tr>\n",
       "    <tr>\n",
       "      <th>2</th>\n",
       "      <td>S-A-003</td>\n",
       "      <td>양품</td>\n",
       "    </tr>\n",
       "    <tr>\n",
       "      <th>3</th>\n",
       "      <td>S-A-004</td>\n",
       "      <td>양품</td>\n",
       "    </tr>\n",
       "    <tr>\n",
       "      <th>4</th>\n",
       "      <td>S-A-005</td>\n",
       "      <td>양품</td>\n",
       "    </tr>\n",
       "  </tbody>\n",
       "</table>\n",
       "</div>"
      ],
      "text/plain": [
       "     시리얼번호 불량 여부\n",
       "0  S-A-001    양품\n",
       "1  S-A-002    양품\n",
       "2  S-A-003    양품\n",
       "3  S-A-004    양품\n",
       "4  S-A-005    양품"
      ]
     },
     "execution_count": 33,
     "metadata": {},
     "output_type": "execute_result"
    }
   ],
   "source": [
    "df = pd.read_excel('데이터/불량 기록 데이터.xlsx')\n",
    "df.head()"
   ]
  },
  {
   "cell_type": "markdown",
   "metadata": {},
   "source": [
    "- 시리얼번호 = 공정-제품-식별자"
   ]
  },
  {
   "cell_type": "code",
   "execution_count": 34,
   "metadata": {},
   "outputs": [
    {
     "data": {
      "text/plain": [
       "양품    715\n",
       "불량     41\n",
       "Name: 불량 여부, dtype: int64"
      ]
     },
     "execution_count": 34,
     "metadata": {},
     "output_type": "execute_result"
    }
   ],
   "source": [
    "df['불량 여부'].value_counts()"
   ]
  },
  {
   "cell_type": "code",
   "execution_count": 36,
   "metadata": {},
   "outputs": [
    {
     "data": {
      "text/plain": [
       "325"
      ]
     },
     "execution_count": 36,
     "metadata": {},
     "output_type": "execute_result"
    }
   ],
   "source": [
    "# 공정이 S인 제품의 개수\n",
    "\n",
    "df['시리얼번호'].str.contains('S').sum()"
   ]
  },
  {
   "cell_type": "code",
   "execution_count": 37,
   "metadata": {},
   "outputs": [
    {
     "data": {
      "text/html": [
       "<div>\n",
       "<style scoped>\n",
       "    .dataframe tbody tr th:only-of-type {\n",
       "        vertical-align: middle;\n",
       "    }\n",
       "\n",
       "    .dataframe tbody tr th {\n",
       "        vertical-align: top;\n",
       "    }\n",
       "\n",
       "    .dataframe thead th {\n",
       "        text-align: right;\n",
       "    }\n",
       "</style>\n",
       "<table border=\"1\" class=\"dataframe\">\n",
       "  <thead>\n",
       "    <tr style=\"text-align: right;\">\n",
       "      <th></th>\n",
       "      <th>0</th>\n",
       "      <th>1</th>\n",
       "      <th>2</th>\n",
       "    </tr>\n",
       "  </thead>\n",
       "  <tbody>\n",
       "    <tr>\n",
       "      <th>0</th>\n",
       "      <td>S</td>\n",
       "      <td>A</td>\n",
       "      <td>001</td>\n",
       "    </tr>\n",
       "    <tr>\n",
       "      <th>1</th>\n",
       "      <td>S</td>\n",
       "      <td>A</td>\n",
       "      <td>002</td>\n",
       "    </tr>\n",
       "    <tr>\n",
       "      <th>2</th>\n",
       "      <td>S</td>\n",
       "      <td>A</td>\n",
       "      <td>003</td>\n",
       "    </tr>\n",
       "    <tr>\n",
       "      <th>3</th>\n",
       "      <td>S</td>\n",
       "      <td>A</td>\n",
       "      <td>004</td>\n",
       "    </tr>\n",
       "    <tr>\n",
       "      <th>4</th>\n",
       "      <td>S</td>\n",
       "      <td>A</td>\n",
       "      <td>005</td>\n",
       "    </tr>\n",
       "    <tr>\n",
       "      <th>...</th>\n",
       "      <td>...</td>\n",
       "      <td>...</td>\n",
       "      <td>...</td>\n",
       "    </tr>\n",
       "    <tr>\n",
       "      <th>751</th>\n",
       "      <td>T</td>\n",
       "      <td>B</td>\n",
       "      <td>237</td>\n",
       "    </tr>\n",
       "    <tr>\n",
       "      <th>752</th>\n",
       "      <td>T</td>\n",
       "      <td>B</td>\n",
       "      <td>238</td>\n",
       "    </tr>\n",
       "    <tr>\n",
       "      <th>753</th>\n",
       "      <td>T</td>\n",
       "      <td>B</td>\n",
       "      <td>239</td>\n",
       "    </tr>\n",
       "    <tr>\n",
       "      <th>754</th>\n",
       "      <td>T</td>\n",
       "      <td>B</td>\n",
       "      <td>240</td>\n",
       "    </tr>\n",
       "    <tr>\n",
       "      <th>755</th>\n",
       "      <td>T</td>\n",
       "      <td>B</td>\n",
       "      <td>241</td>\n",
       "    </tr>\n",
       "  </tbody>\n",
       "</table>\n",
       "<p>756 rows × 3 columns</p>\n",
       "</div>"
      ],
      "text/plain": [
       "     0  1    2\n",
       "0    S  A  001\n",
       "1    S  A  002\n",
       "2    S  A  003\n",
       "3    S  A  004\n",
       "4    S  A  005\n",
       "..  .. ..  ...\n",
       "751  T  B  237\n",
       "752  T  B  238\n",
       "753  T  B  239\n",
       "754  T  B  240\n",
       "755  T  B  241\n",
       "\n",
       "[756 rows x 3 columns]"
      ]
     },
     "execution_count": 37,
     "metadata": {},
     "output_type": "execute_result"
    }
   ],
   "source": [
    "df['시리얼번호'].str.split('-', expand = True)     # - 기준 분할"
   ]
  },
  {
   "cell_type": "code",
   "execution_count": 38,
   "metadata": {},
   "outputs": [
    {
     "data": {
      "text/html": [
       "<div>\n",
       "<style scoped>\n",
       "    .dataframe tbody tr th:only-of-type {\n",
       "        vertical-align: middle;\n",
       "    }\n",
       "\n",
       "    .dataframe tbody tr th {\n",
       "        vertical-align: top;\n",
       "    }\n",
       "\n",
       "    .dataframe thead th {\n",
       "        text-align: right;\n",
       "    }\n",
       "</style>\n",
       "<table border=\"1\" class=\"dataframe\">\n",
       "  <thead>\n",
       "    <tr style=\"text-align: right;\">\n",
       "      <th></th>\n",
       "      <th>시리얼번호</th>\n",
       "      <th>불량 여부</th>\n",
       "      <th>0</th>\n",
       "      <th>1</th>\n",
       "      <th>2</th>\n",
       "    </tr>\n",
       "  </thead>\n",
       "  <tbody>\n",
       "    <tr>\n",
       "      <th>0</th>\n",
       "      <td>S-A-001</td>\n",
       "      <td>양품</td>\n",
       "      <td>S</td>\n",
       "      <td>A</td>\n",
       "      <td>001</td>\n",
       "    </tr>\n",
       "    <tr>\n",
       "      <th>1</th>\n",
       "      <td>S-A-002</td>\n",
       "      <td>양품</td>\n",
       "      <td>S</td>\n",
       "      <td>A</td>\n",
       "      <td>002</td>\n",
       "    </tr>\n",
       "    <tr>\n",
       "      <th>2</th>\n",
       "      <td>S-A-003</td>\n",
       "      <td>양품</td>\n",
       "      <td>S</td>\n",
       "      <td>A</td>\n",
       "      <td>003</td>\n",
       "    </tr>\n",
       "    <tr>\n",
       "      <th>3</th>\n",
       "      <td>S-A-004</td>\n",
       "      <td>양품</td>\n",
       "      <td>S</td>\n",
       "      <td>A</td>\n",
       "      <td>004</td>\n",
       "    </tr>\n",
       "    <tr>\n",
       "      <th>4</th>\n",
       "      <td>S-A-005</td>\n",
       "      <td>양품</td>\n",
       "      <td>S</td>\n",
       "      <td>A</td>\n",
       "      <td>005</td>\n",
       "    </tr>\n",
       "  </tbody>\n",
       "</table>\n",
       "</div>"
      ],
      "text/plain": [
       "     시리얼번호 불량 여부  0  1    2\n",
       "0  S-A-001    양품  S  A  001\n",
       "1  S-A-002    양품  S  A  002\n",
       "2  S-A-003    양품  S  A  003\n",
       "3  S-A-004    양품  S  A  004\n",
       "4  S-A-005    양품  S  A  005"
      ]
     },
     "execution_count": 38,
     "metadata": {},
     "output_type": "execute_result"
    }
   ],
   "source": [
    "# 분할한 데이터 병합\n",
    "\n",
    "merged_df = pd.concat([df, df['시리얼번호'].str.split('-', expand = True)], axis = 1)\n",
    "merged_df.head()"
   ]
  },
  {
   "cell_type": "code",
   "execution_count": 39,
   "metadata": {},
   "outputs": [
    {
     "data": {
      "text/html": [
       "<div>\n",
       "<style scoped>\n",
       "    .dataframe tbody tr th:only-of-type {\n",
       "        vertical-align: middle;\n",
       "    }\n",
       "\n",
       "    .dataframe tbody tr th {\n",
       "        vertical-align: top;\n",
       "    }\n",
       "\n",
       "    .dataframe thead th {\n",
       "        text-align: right;\n",
       "    }\n",
       "</style>\n",
       "<table border=\"1\" class=\"dataframe\">\n",
       "  <thead>\n",
       "    <tr style=\"text-align: right;\">\n",
       "      <th></th>\n",
       "      <th>시리얼번호</th>\n",
       "      <th>불량 여부</th>\n",
       "      <th>공정</th>\n",
       "      <th>제품</th>\n",
       "      <th>식별자</th>\n",
       "    </tr>\n",
       "  </thead>\n",
       "  <tbody>\n",
       "    <tr>\n",
       "      <th>0</th>\n",
       "      <td>S-A-001</td>\n",
       "      <td>양품</td>\n",
       "      <td>S</td>\n",
       "      <td>A</td>\n",
       "      <td>001</td>\n",
       "    </tr>\n",
       "    <tr>\n",
       "      <th>1</th>\n",
       "      <td>S-A-002</td>\n",
       "      <td>양품</td>\n",
       "      <td>S</td>\n",
       "      <td>A</td>\n",
       "      <td>002</td>\n",
       "    </tr>\n",
       "    <tr>\n",
       "      <th>2</th>\n",
       "      <td>S-A-003</td>\n",
       "      <td>양품</td>\n",
       "      <td>S</td>\n",
       "      <td>A</td>\n",
       "      <td>003</td>\n",
       "    </tr>\n",
       "    <tr>\n",
       "      <th>3</th>\n",
       "      <td>S-A-004</td>\n",
       "      <td>양품</td>\n",
       "      <td>S</td>\n",
       "      <td>A</td>\n",
       "      <td>004</td>\n",
       "    </tr>\n",
       "    <tr>\n",
       "      <th>4</th>\n",
       "      <td>S-A-005</td>\n",
       "      <td>양품</td>\n",
       "      <td>S</td>\n",
       "      <td>A</td>\n",
       "      <td>005</td>\n",
       "    </tr>\n",
       "  </tbody>\n",
       "</table>\n",
       "</div>"
      ],
      "text/plain": [
       "     시리얼번호 불량 여부 공정 제품  식별자\n",
       "0  S-A-001    양품  S  A  001\n",
       "1  S-A-002    양품  S  A  002\n",
       "2  S-A-003    양품  S  A  003\n",
       "3  S-A-004    양품  S  A  004\n",
       "4  S-A-005    양품  S  A  005"
      ]
     },
     "execution_count": 39,
     "metadata": {},
     "output_type": "execute_result"
    }
   ],
   "source": [
    "# 컬럼명 변경\n",
    "\n",
    "merged_df.rename({0: '공정', 1: '제품', 2: '식별자'}, axis = 1, inplace = True)\n",
    "merged_df.head()"
   ]
  },
  {
   "cell_type": "code",
   "execution_count": 40,
   "metadata": {},
   "outputs": [
    {
     "data": {
      "text/html": [
       "<div>\n",
       "<style scoped>\n",
       "    .dataframe tbody tr th:only-of-type {\n",
       "        vertical-align: middle;\n",
       "    }\n",
       "\n",
       "    .dataframe tbody tr th {\n",
       "        vertical-align: top;\n",
       "    }\n",
       "\n",
       "    .dataframe thead th {\n",
       "        text-align: right;\n",
       "    }\n",
       "</style>\n",
       "<table border=\"1\" class=\"dataframe\">\n",
       "  <thead>\n",
       "    <tr style=\"text-align: right;\">\n",
       "      <th></th>\n",
       "      <th>시리얼번호</th>\n",
       "      <th>불량 여부</th>\n",
       "      <th>공정</th>\n",
       "      <th>제품</th>\n",
       "      <th>식별자</th>\n",
       "    </tr>\n",
       "  </thead>\n",
       "  <tbody>\n",
       "    <tr>\n",
       "      <th>34</th>\n",
       "      <td>S-A-035</td>\n",
       "      <td>불량</td>\n",
       "      <td>S</td>\n",
       "      <td>A</td>\n",
       "      <td>035</td>\n",
       "    </tr>\n",
       "    <tr>\n",
       "      <th>50</th>\n",
       "      <td>S-A-051</td>\n",
       "      <td>불량</td>\n",
       "      <td>S</td>\n",
       "      <td>A</td>\n",
       "      <td>051</td>\n",
       "    </tr>\n",
       "    <tr>\n",
       "      <th>69</th>\n",
       "      <td>S-A-070</td>\n",
       "      <td>불량</td>\n",
       "      <td>S</td>\n",
       "      <td>A</td>\n",
       "      <td>070</td>\n",
       "    </tr>\n",
       "    <tr>\n",
       "      <th>84</th>\n",
       "      <td>S-A-085</td>\n",
       "      <td>불량</td>\n",
       "      <td>S</td>\n",
       "      <td>A</td>\n",
       "      <td>085</td>\n",
       "    </tr>\n",
       "    <tr>\n",
       "      <th>92</th>\n",
       "      <td>S-A-093</td>\n",
       "      <td>불량</td>\n",
       "      <td>S</td>\n",
       "      <td>A</td>\n",
       "      <td>093</td>\n",
       "    </tr>\n",
       "    <tr>\n",
       "      <th>97</th>\n",
       "      <td>S-A-098</td>\n",
       "      <td>불량</td>\n",
       "      <td>S</td>\n",
       "      <td>A</td>\n",
       "      <td>098</td>\n",
       "    </tr>\n",
       "    <tr>\n",
       "      <th>112</th>\n",
       "      <td>S-A-113</td>\n",
       "      <td>불량</td>\n",
       "      <td>S</td>\n",
       "      <td>A</td>\n",
       "      <td>113</td>\n",
       "    </tr>\n",
       "    <tr>\n",
       "      <th>119</th>\n",
       "      <td>S-A-120</td>\n",
       "      <td>불량</td>\n",
       "      <td>S</td>\n",
       "      <td>A</td>\n",
       "      <td>120</td>\n",
       "    </tr>\n",
       "    <tr>\n",
       "      <th>133</th>\n",
       "      <td>S-A-134</td>\n",
       "      <td>불량</td>\n",
       "      <td>S</td>\n",
       "      <td>A</td>\n",
       "      <td>134</td>\n",
       "    </tr>\n",
       "    <tr>\n",
       "      <th>148</th>\n",
       "      <td>S-B-014</td>\n",
       "      <td>불량</td>\n",
       "      <td>S</td>\n",
       "      <td>B</td>\n",
       "      <td>014</td>\n",
       "    </tr>\n",
       "    <tr>\n",
       "      <th>151</th>\n",
       "      <td>S-B-017</td>\n",
       "      <td>불량</td>\n",
       "      <td>S</td>\n",
       "      <td>B</td>\n",
       "      <td>017</td>\n",
       "    </tr>\n",
       "    <tr>\n",
       "      <th>162</th>\n",
       "      <td>S-B-028</td>\n",
       "      <td>불량</td>\n",
       "      <td>S</td>\n",
       "      <td>B</td>\n",
       "      <td>028</td>\n",
       "    </tr>\n",
       "    <tr>\n",
       "      <th>184</th>\n",
       "      <td>S-B-050</td>\n",
       "      <td>불량</td>\n",
       "      <td>S</td>\n",
       "      <td>B</td>\n",
       "      <td>050</td>\n",
       "    </tr>\n",
       "    <tr>\n",
       "      <th>193</th>\n",
       "      <td>S-B-059</td>\n",
       "      <td>불량</td>\n",
       "      <td>S</td>\n",
       "      <td>B</td>\n",
       "      <td>059</td>\n",
       "    </tr>\n",
       "    <tr>\n",
       "      <th>206</th>\n",
       "      <td>S-B-072</td>\n",
       "      <td>불량</td>\n",
       "      <td>S</td>\n",
       "      <td>B</td>\n",
       "      <td>072</td>\n",
       "    </tr>\n",
       "    <tr>\n",
       "      <th>242</th>\n",
       "      <td>S-B-108</td>\n",
       "      <td>불량</td>\n",
       "      <td>S</td>\n",
       "      <td>B</td>\n",
       "      <td>108</td>\n",
       "    </tr>\n",
       "    <tr>\n",
       "      <th>245</th>\n",
       "      <td>S-B-111</td>\n",
       "      <td>불량</td>\n",
       "      <td>S</td>\n",
       "      <td>B</td>\n",
       "      <td>111</td>\n",
       "    </tr>\n",
       "    <tr>\n",
       "      <th>256</th>\n",
       "      <td>S-B-122</td>\n",
       "      <td>불량</td>\n",
       "      <td>S</td>\n",
       "      <td>B</td>\n",
       "      <td>122</td>\n",
       "    </tr>\n",
       "    <tr>\n",
       "      <th>296</th>\n",
       "      <td>S-B-162</td>\n",
       "      <td>불량</td>\n",
       "      <td>S</td>\n",
       "      <td>B</td>\n",
       "      <td>162</td>\n",
       "    </tr>\n",
       "    <tr>\n",
       "      <th>306</th>\n",
       "      <td>S-B-172</td>\n",
       "      <td>불량</td>\n",
       "      <td>S</td>\n",
       "      <td>B</td>\n",
       "      <td>172</td>\n",
       "    </tr>\n",
       "    <tr>\n",
       "      <th>310</th>\n",
       "      <td>S-B-176</td>\n",
       "      <td>불량</td>\n",
       "      <td>S</td>\n",
       "      <td>B</td>\n",
       "      <td>176</td>\n",
       "    </tr>\n",
       "    <tr>\n",
       "      <th>349</th>\n",
       "      <td>T-A-025</td>\n",
       "      <td>불량</td>\n",
       "      <td>T</td>\n",
       "      <td>A</td>\n",
       "      <td>025</td>\n",
       "    </tr>\n",
       "    <tr>\n",
       "      <th>389</th>\n",
       "      <td>T-A-065</td>\n",
       "      <td>불량</td>\n",
       "      <td>T</td>\n",
       "      <td>A</td>\n",
       "      <td>065</td>\n",
       "    </tr>\n",
       "    <tr>\n",
       "      <th>415</th>\n",
       "      <td>T-A-091</td>\n",
       "      <td>불량</td>\n",
       "      <td>T</td>\n",
       "      <td>A</td>\n",
       "      <td>091</td>\n",
       "    </tr>\n",
       "    <tr>\n",
       "      <th>418</th>\n",
       "      <td>T-A-094</td>\n",
       "      <td>불량</td>\n",
       "      <td>T</td>\n",
       "      <td>A</td>\n",
       "      <td>094</td>\n",
       "    </tr>\n",
       "    <tr>\n",
       "      <th>437</th>\n",
       "      <td>T-A-113</td>\n",
       "      <td>불량</td>\n",
       "      <td>T</td>\n",
       "      <td>A</td>\n",
       "      <td>113</td>\n",
       "    </tr>\n",
       "    <tr>\n",
       "      <th>447</th>\n",
       "      <td>T-A-123</td>\n",
       "      <td>불량</td>\n",
       "      <td>T</td>\n",
       "      <td>A</td>\n",
       "      <td>123</td>\n",
       "    </tr>\n",
       "    <tr>\n",
       "      <th>459</th>\n",
       "      <td>T-A-135</td>\n",
       "      <td>불량</td>\n",
       "      <td>T</td>\n",
       "      <td>A</td>\n",
       "      <td>135</td>\n",
       "    </tr>\n",
       "    <tr>\n",
       "      <th>477</th>\n",
       "      <td>T-A-153</td>\n",
       "      <td>불량</td>\n",
       "      <td>T</td>\n",
       "      <td>A</td>\n",
       "      <td>153</td>\n",
       "    </tr>\n",
       "    <tr>\n",
       "      <th>486</th>\n",
       "      <td>T-A-162</td>\n",
       "      <td>불량</td>\n",
       "      <td>T</td>\n",
       "      <td>A</td>\n",
       "      <td>162</td>\n",
       "    </tr>\n",
       "    <tr>\n",
       "      <th>490</th>\n",
       "      <td>T-A-166</td>\n",
       "      <td>불량</td>\n",
       "      <td>T</td>\n",
       "      <td>A</td>\n",
       "      <td>166</td>\n",
       "    </tr>\n",
       "    <tr>\n",
       "      <th>492</th>\n",
       "      <td>T-A-168</td>\n",
       "      <td>불량</td>\n",
       "      <td>T</td>\n",
       "      <td>A</td>\n",
       "      <td>168</td>\n",
       "    </tr>\n",
       "    <tr>\n",
       "      <th>497</th>\n",
       "      <td>T-A-173</td>\n",
       "      <td>불량</td>\n",
       "      <td>T</td>\n",
       "      <td>A</td>\n",
       "      <td>173</td>\n",
       "    </tr>\n",
       "    <tr>\n",
       "      <th>524</th>\n",
       "      <td>T-B-010</td>\n",
       "      <td>불량</td>\n",
       "      <td>T</td>\n",
       "      <td>B</td>\n",
       "      <td>010</td>\n",
       "    </tr>\n",
       "    <tr>\n",
       "      <th>593</th>\n",
       "      <td>T-B-079</td>\n",
       "      <td>불량</td>\n",
       "      <td>T</td>\n",
       "      <td>B</td>\n",
       "      <td>079</td>\n",
       "    </tr>\n",
       "    <tr>\n",
       "      <th>597</th>\n",
       "      <td>T-B-083</td>\n",
       "      <td>불량</td>\n",
       "      <td>T</td>\n",
       "      <td>B</td>\n",
       "      <td>083</td>\n",
       "    </tr>\n",
       "    <tr>\n",
       "      <th>599</th>\n",
       "      <td>T-B-085</td>\n",
       "      <td>불량</td>\n",
       "      <td>T</td>\n",
       "      <td>B</td>\n",
       "      <td>085</td>\n",
       "    </tr>\n",
       "    <tr>\n",
       "      <th>658</th>\n",
       "      <td>T-B-144</td>\n",
       "      <td>불량</td>\n",
       "      <td>T</td>\n",
       "      <td>B</td>\n",
       "      <td>144</td>\n",
       "    </tr>\n",
       "    <tr>\n",
       "      <th>682</th>\n",
       "      <td>T-B-168</td>\n",
       "      <td>불량</td>\n",
       "      <td>T</td>\n",
       "      <td>B</td>\n",
       "      <td>168</td>\n",
       "    </tr>\n",
       "    <tr>\n",
       "      <th>729</th>\n",
       "      <td>T-B-215</td>\n",
       "      <td>불량</td>\n",
       "      <td>T</td>\n",
       "      <td>B</td>\n",
       "      <td>215</td>\n",
       "    </tr>\n",
       "    <tr>\n",
       "      <th>754</th>\n",
       "      <td>T-B-240</td>\n",
       "      <td>불량</td>\n",
       "      <td>T</td>\n",
       "      <td>B</td>\n",
       "      <td>240</td>\n",
       "    </tr>\n",
       "  </tbody>\n",
       "</table>\n",
       "</div>"
      ],
      "text/plain": [
       "       시리얼번호 불량 여부 공정 제품  식별자\n",
       "34   S-A-035    불량  S  A  035\n",
       "50   S-A-051    불량  S  A  051\n",
       "69   S-A-070    불량  S  A  070\n",
       "84   S-A-085    불량  S  A  085\n",
       "92   S-A-093    불량  S  A  093\n",
       "97   S-A-098    불량  S  A  098\n",
       "112  S-A-113    불량  S  A  113\n",
       "119  S-A-120    불량  S  A  120\n",
       "133  S-A-134    불량  S  A  134\n",
       "148  S-B-014    불량  S  B  014\n",
       "151  S-B-017    불량  S  B  017\n",
       "162  S-B-028    불량  S  B  028\n",
       "184  S-B-050    불량  S  B  050\n",
       "193  S-B-059    불량  S  B  059\n",
       "206  S-B-072    불량  S  B  072\n",
       "242  S-B-108    불량  S  B  108\n",
       "245  S-B-111    불량  S  B  111\n",
       "256  S-B-122    불량  S  B  122\n",
       "296  S-B-162    불량  S  B  162\n",
       "306  S-B-172    불량  S  B  172\n",
       "310  S-B-176    불량  S  B  176\n",
       "349  T-A-025    불량  T  A  025\n",
       "389  T-A-065    불량  T  A  065\n",
       "415  T-A-091    불량  T  A  091\n",
       "418  T-A-094    불량  T  A  094\n",
       "437  T-A-113    불량  T  A  113\n",
       "447  T-A-123    불량  T  A  123\n",
       "459  T-A-135    불량  T  A  135\n",
       "477  T-A-153    불량  T  A  153\n",
       "486  T-A-162    불량  T  A  162\n",
       "490  T-A-166    불량  T  A  166\n",
       "492  T-A-168    불량  T  A  168\n",
       "497  T-A-173    불량  T  A  173\n",
       "524  T-B-010    불량  T  B  010\n",
       "593  T-B-079    불량  T  B  079\n",
       "597  T-B-083    불량  T  B  083\n",
       "599  T-B-085    불량  T  B  085\n",
       "658  T-B-144    불량  T  B  144\n",
       "682  T-B-168    불량  T  B  168\n",
       "729  T-B-215    불량  T  B  215\n",
       "754  T-B-240    불량  T  B  240"
      ]
     },
     "execution_count": 40,
     "metadata": {},
     "output_type": "execute_result"
    }
   ],
   "source": [
    "merged_df.loc[merged_df['불량 여부'] != '양품']"
   ]
  },
  {
   "cell_type": "code",
   "execution_count": 41,
   "metadata": {},
   "outputs": [
    {
     "data": {
      "text/html": [
       "<div>\n",
       "<style scoped>\n",
       "    .dataframe tbody tr th:only-of-type {\n",
       "        vertical-align: middle;\n",
       "    }\n",
       "\n",
       "    .dataframe tbody tr th {\n",
       "        vertical-align: top;\n",
       "    }\n",
       "\n",
       "    .dataframe thead th {\n",
       "        text-align: right;\n",
       "    }\n",
       "</style>\n",
       "<table border=\"1\" class=\"dataframe\">\n",
       "  <thead>\n",
       "    <tr style=\"text-align: right;\">\n",
       "      <th>제품</th>\n",
       "      <th>A</th>\n",
       "      <th>B</th>\n",
       "    </tr>\n",
       "    <tr>\n",
       "      <th>공정</th>\n",
       "      <th></th>\n",
       "      <th></th>\n",
       "    </tr>\n",
       "  </thead>\n",
       "  <tbody>\n",
       "    <tr>\n",
       "      <th>S</th>\n",
       "      <td>9</td>\n",
       "      <td>12</td>\n",
       "    </tr>\n",
       "    <tr>\n",
       "      <th>T</th>\n",
       "      <td>12</td>\n",
       "      <td>8</td>\n",
       "    </tr>\n",
       "  </tbody>\n",
       "</table>\n",
       "</div>"
      ],
      "text/plain": [
       "제품   A   B\n",
       "공정        \n",
       "S    9  12\n",
       "T   12   8"
      ]
     },
     "execution_count": 41,
     "metadata": {},
     "output_type": "execute_result"
    }
   ],
   "source": [
    "pd.pivot_table(merged_df.loc[merged_df['불량 여부'] != '양품'], \n",
    "               values = '불량 여부', \n",
    "               index = '공정', \n",
    "               columns = '제품', \n",
    "               aggfunc = 'count')"
   ]
  },
  {
   "cell_type": "markdown",
   "metadata": {},
   "source": [
    "- 불량 여부가 양품이 아닌 데이터를 대상으로 인덱스는 공정, 칼럼은 제품으로 해서 갯수를 나타내는 pivot_table 생성"
   ]
  }
 ],
 "metadata": {
  "kernelspec": {
   "display_name": "Python 3",
   "language": "python",
   "name": "python3"
  },
  "language_info": {
   "codemirror_mode": {
    "name": "ipython",
    "version": 3
   },
   "file_extension": ".py",
   "mimetype": "text/x-python",
   "name": "python",
   "nbconvert_exporter": "python",
   "pygments_lexer": "ipython3",
   "version": "3.7.6"
  }
 },
 "nbformat": 4,
 "nbformat_minor": 4
}
