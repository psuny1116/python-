{
 "cells": [
  {
   "cell_type": "markdown",
   "id": "33d0822f",
   "metadata": {},
   "source": [
    "# for - else문\n",
    "\n",
    "- for문이 break등으로 중간에 빠져나오지 않고 끝까지 실행됐을 경우 else문이 실행됨"
   ]
  },
  {
   "cell_type": "code",
   "execution_count": 1,
   "id": "c4f805d7",
   "metadata": {},
   "outputs": [
    {
     "name": "stdout",
     "output_type": "stream",
     "text": [
      "0 1 2 3 4 for문 끝\n"
     ]
    }
   ],
   "source": [
    "# 중간에 break문으로 빠져 나오지 않고, for문이 모두 돌았을 경우 else문 실행\n",
    "\n",
    "for i in range(5):\n",
    "    print(i, end = ' ')\n",
    "else:\n",
    "    print('for문 끝')"
   ]
  },
  {
   "cell_type": "code",
   "execution_count": 2,
   "id": "27e507d1",
   "metadata": {},
   "outputs": [
    {
     "name": "stdout",
     "output_type": "stream",
     "text": [
      "0 1 "
     ]
    }
   ],
   "source": [
    "# 중간에 break문으로 빠져나오는 경우 else문 실행 안됨\n",
    "\n",
    "for i in range(5):\n",
    "    if i == 2:\n",
    "        break\n",
    "    print(i, end = ' ')\n",
    "else:\n",
    "    print('for문 끝')"
   ]
  },
  {
   "cell_type": "code",
   "execution_count": 8,
   "id": "109d816e",
   "metadata": {},
   "outputs": [],
   "source": [
    "# 예제\n",
    "## sum이 소수인지 확인\n",
    "\n",
    "sum = 100\n",
    "for a in range(2, sum):\n",
    "    if sum % a == 0:     # for문을 이용해 sum보다 작은 수로 모두 나눠봤을 때 0이 나온다면 break\n",
    "        break            # 이경우 sum은 소수 아님\n",
    "else:\n",
    "    print(sum)            # 0이 나오지 않는 경우가 있다면 print(sum). sum은 소수"
   ]
  },
  {
   "cell_type": "code",
   "execution_count": 9,
   "id": "f13b9cb2",
   "metadata": {},
   "outputs": [
    {
     "name": "stdout",
     "output_type": "stream",
     "text": [
      "13\n"
     ]
    }
   ],
   "source": [
    "# 예제\n",
    "## sum이 소수인지 확인\n",
    "\n",
    "sum = 13\n",
    "for a in range(2, sum):\n",
    "    if sum % a == 0:     # for문을 이용해 sum보다 작은 수로 모두 나눠봤을 때 0이 나온다면 break\n",
    "        break            # 이경우 sum은 소수 아님\n",
    "else:\n",
    "    print(sum)            # 0이 나오지 않는 경우가 있다면 print(sum). sum은 소수"
   ]
  },
  {
   "cell_type": "code",
   "execution_count": null,
   "id": "35e22f62",
   "metadata": {},
   "outputs": [],
   "source": []
  }
 ],
 "metadata": {
  "kernelspec": {
   "display_name": "Python 3 (ipykernel)",
   "language": "python",
   "name": "python3"
  },
  "language_info": {
   "codemirror_mode": {
    "name": "ipython",
    "version": 3
   },
   "file_extension": ".py",
   "mimetype": "text/x-python",
   "name": "python",
   "nbconvert_exporter": "python",
   "pygments_lexer": "ipython3",
   "version": "3.9.12"
  }
 },
 "nbformat": 4,
 "nbformat_minor": 5
}
