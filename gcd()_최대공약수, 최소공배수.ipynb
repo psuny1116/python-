{
 "cells": [
  {
   "cell_type": "markdown",
   "metadata": {},
   "source": [
    "# gcd()\n",
    "\n",
    "- 두 수의 최대공약수를 구해주는 함수\n",
    "- 최소공배수를 구하려면\n",
    "- 최소공배수 = (a * b) / gcd(a, b)"
   ]
  },
  {
   "cell_type": "markdown",
   "metadata": {},
   "source": [
    "# 최대공약수"
   ]
  },
  {
   "cell_type": "code",
   "execution_count": 3,
   "metadata": {},
   "outputs": [
    {
     "name": "stdout",
     "output_type": "stream",
     "text": [
      "2\n",
      "3\n",
      "1\n"
     ]
    }
   ],
   "source": [
    "from math import gcd\n",
    "\n",
    "print(gcd(2, 4))\n",
    "print(gcd(3, 15))\n",
    "print(gcd(6, 7))"
   ]
  },
  {
   "cell_type": "markdown",
   "metadata": {},
   "source": [
    "# 최소공배수"
   ]
  },
  {
   "cell_type": "code",
   "execution_count": 9,
   "metadata": {},
   "outputs": [
    {
     "name": "stdout",
     "output_type": "stream",
     "text": [
      "4\n",
      "15\n",
      "42\n"
     ]
    }
   ],
   "source": [
    "from math import gcd\n",
    "\n",
    "print((2 * 4) // gcd(2, 4))\n",
    "print((3 * 15) // gcd(3, 15))\n",
    "print((6 * 7) // gcd(6, 7))"
   ]
  }
 ],
 "metadata": {
  "kernelspec": {
   "display_name": "Python 3",
   "language": "python",
   "name": "python3"
  },
  "language_info": {
   "codemirror_mode": {
    "name": "ipython",
    "version": 3
   },
   "file_extension": ".py",
   "mimetype": "text/x-python",
   "name": "python",
   "nbconvert_exporter": "python",
   "pygments_lexer": "ipython3",
   "version": "3.7.6"
  }
 },
 "nbformat": 4,
 "nbformat_minor": 4
}
