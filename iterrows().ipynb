{
 "cells": [
  {
   "cell_type": "markdown",
   "id": "92ad7615",
   "metadata": {},
   "source": [
    "# iterrows()\n",
    "\n",
    "- 행인덱스와 해당 행의 값 출력"
   ]
  },
  {
   "cell_type": "code",
   "execution_count": 1,
   "id": "d75573e5",
   "metadata": {},
   "outputs": [
    {
     "data": {
      "text/html": [
       "<div>\n",
       "<style scoped>\n",
       "    .dataframe tbody tr th:only-of-type {\n",
       "        vertical-align: middle;\n",
       "    }\n",
       "\n",
       "    .dataframe tbody tr th {\n",
       "        vertical-align: top;\n",
       "    }\n",
       "\n",
       "    .dataframe thead th {\n",
       "        text-align: right;\n",
       "    }\n",
       "</style>\n",
       "<table border=\"1\" class=\"dataframe\">\n",
       "  <thead>\n",
       "    <tr style=\"text-align: right;\">\n",
       "      <th></th>\n",
       "      <th>과일</th>\n",
       "      <th>색</th>\n",
       "      <th>가격</th>\n",
       "    </tr>\n",
       "  </thead>\n",
       "  <tbody>\n",
       "    <tr>\n",
       "      <th>0</th>\n",
       "      <td>사과</td>\n",
       "      <td>빨강</td>\n",
       "      <td>1000원</td>\n",
       "    </tr>\n",
       "    <tr>\n",
       "      <th>1</th>\n",
       "      <td>바나나</td>\n",
       "      <td>노랑</td>\n",
       "      <td>3000원</td>\n",
       "    </tr>\n",
       "    <tr>\n",
       "      <th>2</th>\n",
       "      <td>오렌지</td>\n",
       "      <td>주황</td>\n",
       "      <td>2000원</td>\n",
       "    </tr>\n",
       "  </tbody>\n",
       "</table>\n",
       "</div>"
      ],
      "text/plain": [
       "    과일   색     가격\n",
       "0   사과  빨강  1000원\n",
       "1  바나나  노랑  3000원\n",
       "2  오렌지  주황  2000원"
      ]
     },
     "execution_count": 1,
     "metadata": {},
     "output_type": "execute_result"
    }
   ],
   "source": [
    "import pandas as pd\n",
    "import numpy as np\n",
    "\n",
    "df = pd.DataFrame(data = {'과일' : ['사과', '바나나', '오렌지'], '색': ['빨강', '노랑', '주황'], '가격': ['1000원', '3000원', '2000원']})\n",
    "df"
   ]
  },
  {
   "cell_type": "code",
   "execution_count": 5,
   "id": "97a7e883",
   "metadata": {},
   "outputs": [
    {
     "name": "stdout",
     "output_type": "stream",
     "text": [
      "0\n",
      "과일       사과\n",
      "색        빨강\n",
      "가격    1000원\n",
      "Name: 0, dtype: object\n",
      "1\n",
      "과일      바나나\n",
      "색        노랑\n",
      "가격    3000원\n",
      "Name: 1, dtype: object\n",
      "2\n",
      "과일      오렌지\n",
      "색        주황\n",
      "가격    2000원\n",
      "Name: 2, dtype: object\n"
     ]
    }
   ],
   "source": [
    "for idx, row in df.iterrows():\n",
    "    print(idx)\n",
    "    print(row)"
   ]
  }
 ],
 "metadata": {
  "kernelspec": {
   "display_name": "Python 3 (ipykernel)",
   "language": "python",
   "name": "python3"
  },
  "language_info": {
   "codemirror_mode": {
    "name": "ipython",
    "version": 3
   },
   "file_extension": ".py",
   "mimetype": "text/x-python",
   "name": "python",
   "nbconvert_exporter": "python",
   "pygments_lexer": "ipython3",
   "version": "3.9.12"
  }
 },
 "nbformat": 4,
 "nbformat_minor": 5
}
