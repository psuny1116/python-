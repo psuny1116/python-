{
 "cells": [
  {
   "cell_type": "markdown",
   "id": "cfbba8a6",
   "metadata": {},
   "source": [
    "# 에라토스테네스의 체\n",
    "\n",
    "- 소수를 판별하는 알고리즘\n",
    "\n",
    "1. 소수를 판별할 범위만큼 배열을 생성\n",
    "2. 2부터 시작해서 특정 수의 배수에 해당하는 수를 모두 지움(지울 때, 자기 자신은 지우지 않고, 이미 지워진 수는 건너뜀)\n",
    "3. 2부터 시작하여 남아있는 수를 모두 출력"
   ]
  },
  {
   "cell_type": "code",
   "execution_count": 11,
   "id": "d9efe00b",
   "metadata": {},
   "outputs": [
    {
     "name": "stdout",
     "output_type": "stream",
     "text": [
      "{2, 3, 5, 7, 11, 13, 17, 19, 23, 29, 31, 37, 41, 43, 47, 53, 59, 61, 67, 71, 73, 79, 83, 89, 97}\n"
     ]
    }
   ],
   "source": [
    "n = 100\n",
    "\n",
    "num = set(range(2, n + 1))     # 1. 소수를 판별할 범위만큼 배열 생성\n",
    "\n",
    "for i in range(2, n + 1):\n",
    "    if i in num:\n",
    "        num -= set(range(2 * i, n + 1, i))     # 2. 2부터 시작해서 특정수의 배수에 해당하는 수를 모두 지움\n",
    "                                               ## (자기 자신은 지우지 않음)\n",
    "            \n",
    "print(num)"
   ]
  },
  {
   "cell_type": "code",
   "execution_count": null,
   "id": "63e5245a",
   "metadata": {},
   "outputs": [],
   "source": []
  }
 ],
 "metadata": {
  "kernelspec": {
   "display_name": "Python 3 (ipykernel)",
   "language": "python",
   "name": "python3"
  },
  "language_info": {
   "codemirror_mode": {
    "name": "ipython",
    "version": 3
   },
   "file_extension": ".py",
   "mimetype": "text/x-python",
   "name": "python",
   "nbconvert_exporter": "python",
   "pygments_lexer": "ipython3",
   "version": "3.9.12"
  }
 },
 "nbformat": 4,
 "nbformat_minor": 5
}
