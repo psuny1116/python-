{
 "cells": [
  {
   "cell_type": "markdown",
   "id": "29b45055",
   "metadata": {},
   "source": [
    "# np.concatenate()\n",
    "\n",
    "- 첫번째 차원을 따라 배열을 연결"
   ]
  },
  {
   "cell_type": "markdown",
   "id": "12dc2796",
   "metadata": {},
   "source": [
    "## np.ones()\n",
    "\n",
    "- 1을 만들어냄\n",
    "\n",
    "## np.zeros()\n",
    "\n",
    "- 0을 만들어냄"
   ]
  },
  {
   "cell_type": "code",
   "execution_count": 2,
   "id": "158b0c4a",
   "metadata": {},
   "outputs": [],
   "source": [
    "import numpy as np"
   ]
  },
  {
   "cell_type": "code",
   "execution_count": 3,
   "id": "06164038",
   "metadata": {
    "scrolled": true
   },
   "outputs": [
    {
     "data": {
      "text/plain": [
       "array([1., 1., 1., 1., 1., 1., 1., 1., 1., 1., 1., 1., 1., 1., 1., 1., 1.,\n",
       "       1., 1., 1., 1., 1., 1., 1., 1., 1., 1., 1., 1., 1., 1., 1., 1., 1.,\n",
       "       1., 0., 0., 0., 0., 0., 0., 0., 0., 0., 0., 0., 0., 0., 0.])"
      ]
     },
     "execution_count": 3,
     "metadata": {},
     "output_type": "execute_result"
    }
   ],
   "source": [
    "np.concatenate((np.ones(35), np.zeros(14)))"
   ]
  }
 ],
 "metadata": {
  "kernelspec": {
   "display_name": "Python 3 (ipykernel)",
   "language": "python",
   "name": "python3"
  },
  "language_info": {
   "codemirror_mode": {
    "name": "ipython",
    "version": 3
   },
   "file_extension": ".py",
   "mimetype": "text/x-python",
   "name": "python",
   "nbconvert_exporter": "python",
   "pygments_lexer": "ipython3",
   "version": "3.9.12"
  }
 },
 "nbformat": 4,
 "nbformat_minor": 5
}
